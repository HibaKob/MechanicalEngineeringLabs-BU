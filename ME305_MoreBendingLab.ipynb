{
 "cells": [
  {
   "cell_type": "markdown",
   "metadata": {},
   "source": [
    "# Lab 3: More on Beam Bending"
   ]
  },
  {
   "cell_type": "code",
   "execution_count": 2,
   "metadata": {},
   "outputs": [],
   "source": [
    "install_mpld3 = !pip install \"git+https://github.com/mpld3/mpld3\" \n",
    "import math         # sine, cosine, sqrt, etc.\n",
    "import numpy as np  # so we can work with matrices\n",
    "import pandas as pd               # for data/tables\n",
    "\n",
    "import matplotlib\n",
    "import matplotlib.pyplot as plt # plotting\n",
    "\n",
    "from skimage import io            # working with images\n",
    "from IPython.display import Image,display # images in colab\n",
    "import mpld3                      # interacting with images\n",
    "from mpld3 import plugins         # getting pixel data from images"
   ]
  },
  {
   "cell_type": "markdown",
   "metadata": {},
   "source": [
    "## Prelab Questions:\n",
    "\n",
    "Read, but do not yet complete, the  [Experiments](#exp) section. Then discuss within your group and answer the following questions:\n",
    "\n",
    "<b>(1.) Do you think the the beam in Part 1 whose layers are bound will produce more deflection, the unbound one in Part 2, or will the deflection be the same? Why? :</b>\n",
    "\n",
    "...enter your answer here...\n",
    "\n",
    "<b>(2.) Each magazine beam's self-weight will act as a distributed load. Is this load the same in Part 1 and Part 2? Explain your answer. :</b>\n",
    "\n",
    "...enter your answer here...\n",
    "\n",
    "<b>(3.) Is the second moment of area, I, the same for the bound beam in Part 1 and the one with \"loose\" layers in Part 2? Explain your answer.:</b>\n",
    "\n",
    "...enter your answer here...\n",
    "\n",
    "<b>(4.) Do you think Euler-Bernoulli beam theory will accurately predict the deflection $w$ of the beam in Part 1? Why or why not? :</b>\n",
    "\n",
    "...enter your answer here...\n",
    "\n",
    "<b>(5.) Do you think Euler-Bernoulli beam theory will accurately predict the deflection $w$ of the beam in Part 2? Why or why not? :</b>\n",
    "\n",
    "...enter your answer here...\n",
    "\n"
   ]
  },
  {
   "cell_type": "markdown",
   "metadata": {},
   "source": [
    "## Experiments <a id='exp'></a>\n",
    "\n",
    "1. Find a magazine or other very floppy book. \n",
    "\n",
    " <u> Part 1: Bound end </u>\n",
    "\n",
    "2. Cantilever the magazine beam by clamping the <b>free</b> edge opposite the binding. For example, you can place the endge underneath heavy books. Let the bound end hang freely.\n",
    "\n",
    "3. Measure and record $L$, the distance between your clamp and the bound edge.\n",
    "\n",
    "4. You need a reference object in the frame. Measure it.\n",
    "\n",
    "5. Take a photo, ensuring that your camera view is at eye level with and perpendicular to the magazine beam.\n",
    "\n",
    "6. Take another photo, this time a close-up view of the end of the magazine beam. Ensure that the reference object is in the frame, that the camera is horizontal in space, level with and perpendicular to the beam.\n",
    "\n",
    " <u> Part 2: Free end </u>\n",
    "\n",
    "7. Cantilever the magazine beam by clamping the <b>bound</b> edge. Let the edge opposite the binding hang freely.\n",
    "\n",
    "8. Measure and record $L$, the distance between your clamp and the end of the magazine beam.\n",
    "\n",
    "9. Take a photo ensuring that your reference object is in the frame, and that your camera view is at eye level with and perpendicular to the magazine beam. \n",
    "\n",
    "10. Take another photo, this time a close-up view of the end of the magazine beam. Ensure that the reference object is in the frame, that the camera is horizontal in space, level with and perpendicular to the beam.\n",
    "\n",
    "11. Add all images (descriptively named) to your shared Google drive."
   ]
  }
 ],
 "metadata": {
  "kernelspec": {
   "display_name": "Python 3",
   "language": "python",
   "name": "python3"
  },
  "language_info": {
   "codemirror_mode": {
    "name": "ipython",
    "version": 3
   },
   "file_extension": ".py",
   "mimetype": "text/x-python",
   "name": "python",
   "nbconvert_exporter": "python",
   "pygments_lexer": "ipython3",
   "version": "3.7.3"
  }
 },
 "nbformat": 4,
 "nbformat_minor": 2
}
