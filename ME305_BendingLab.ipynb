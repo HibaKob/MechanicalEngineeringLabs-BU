{
 "cells": [
  {
   "cell_type": "markdown",
   "metadata": {},
   "source": [
    "# The Shape of a Bending Beam"
   ]
  },
  {
   "cell_type": "markdown",
   "metadata": {},
   "source": [
    "What is the shape of a bent beam? This is perhaps one of the oldest and most important questions in all of mechanics. It attracted the attention of some of the greatest minds in mathematics, including Galileo, the Bernoullis, and Euler. It's shape is useful in the design of engineering structures, [shipbuilding](https://www.marineinsight.com/naval-architecture/ship-construction-plate-machining-assembly-hull-units-block-erection/), creating [flexible electronic devices](https://matmatch.com/blog/flexible-electronics-world/), modelling and [animating hair](https://disney-animation.s3.amazonaws.com/uploads/production/publication_asset/167/asset/moanaHair_abstract1.pdf) in Disney movies, describing the shape of a [meniscus and a fluid droplet](https://www.fmf.uni-lj.si/~podgornik/download/Analogies-drop-elastica.pdf), and in laying [transatlantic communication cables](https://www.mdpi.com/2077-1312/8/1/48/pdf), among countless other examples. For a detailed look at the history of elastica, the curious reader may enjoy [this article](https://www.levien.com/phd/elastica_hist.pdf).\n",
    "\n",
    "Remarkably, the shape of a thin strip of elastic material - an <i>elastica</i> in Latin - is given by same differential equation that describes a pendulum,\n",
    "\\begin{equation}\n",
    "\\theta''(s) + \\lambda \\sin[\\theta(s)] = 0,\n",
    "\\tag{1}\n",
    "\\end{equation}\n",
    "    where $s$ is the location along the <i>elastica</i>, $\\theta(s)$ is the angle or slope of the <i>elastica</i> at a given location $s$, and $\\lambda$ is the magnitude of applied force to the bending rigidity of the <i>elastica</i>. In this equation, $\\theta''(s)$ refers to the second derivative of $\\theta$ with respect to $s$. If we can solve equation (1) for $\\theta(s)$, we will know the shape of a bent bend under what load parameter $\\lambda$ that we apply. \n",
    "    \n",
    "However, equation (1) is very difficult to solve. It is difficult because it is <b>nonlinear</b>, and it is nonlinear because of the $\\sin[\\theta(s)]$ term. "
   ]
  },
  {
   "cell_type": "code",
   "execution_count": null,
   "metadata": {},
   "outputs": [],
   "source": []
  }
 ],
 "metadata": {
  "kernelspec": {
   "display_name": "Python 3",
   "language": "python",
   "name": "python3"
  },
  "language_info": {
   "codemirror_mode": {
    "name": "ipython",
    "version": 3
   },
   "file_extension": ".py",
   "mimetype": "text/x-python",
   "name": "python",
   "nbconvert_exporter": "python",
   "pygments_lexer": "ipython3",
   "version": "3.7.4"
  }
 },
 "nbformat": 4,
 "nbformat_minor": 2
}
