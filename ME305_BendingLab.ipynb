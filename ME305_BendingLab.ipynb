{
 "cells": [
  {
   "cell_type": "markdown",
   "metadata": {},
   "source": [
    "# The Shape of a Bending Beam"
   ]
  },
  {
   "cell_type": "markdown",
   "metadata": {},
   "source": [
    "What is the shape of a bent beam? This is perhaps one of the oldest and most important questions in all of mechanics. It attracted the attention of some of the greatest minds in mathematics, including Galileo, the Bernoullis, and Euler. It's shape is useful in the design of engineering structures, [shipbuilding](https://www.marineinsight.com/naval-architecture/ship-construction-plate-machining-assembly-hull-units-block-erection/), creating [flexible electronic devices](https://matmatch.com/blog/flexible-electronics-world/), modelling and [animating hair](https://disney-animation.s3.amazonaws.com/uploads/production/publication_asset/167/asset/moanaHair_abstract1.pdf) in Disney movies, describing the shape of a [meniscus and a fluid droplet](https://www.fmf.uni-lj.si/~podgornik/download/Analogies-drop-elastica.pdf), and in laying [transatlantic communication cables](https://www.mdpi.com/2077-1312/8/1/48/pdf), among countless other examples. For a detailed look at the history of elastica, the curious reader may enjoy [this article](https://www.levien.com/phd/elastica_hist.pdf).\n",
    "\n",
    "Remarkably, the shape of a thin strip of elastic material - an <i>elastica</i> in Latin - is given by same differential equation that describes a pendulum,\n",
    "\\begin{equation}\n",
    "\\frac{d^2\\theta(s)}{ds^2} + \\lambda \\sin[\\theta(s)] = 0,\n",
    "\\tag{1}\n",
    "\\end{equation}\n",
    "    where $s$ is the location along the <i>elastica</i>, $\\theta(s)$ is the angle or slope of the <i>elastica</i> at a given location $s$, that is $\\theta(s)=dw/ds$ where $w$ is the vertical deflection, and $\\lambda$ is the magnitude of applied force to the bending rigidity of the <i>elastica</i>. If we can solve equation (1) for $\\theta(s)$, we will know the shape of a bent bend under what load parameter $\\lambda$ that we apply. \n",
    "    \n",
    "However, equation (1) is very difficult to solve. It is difficult because it is <b>nonlinear</b>, and it is nonlinear because of the $\\sin[\\theta(s)]$ term. When the slopes of the beam are small, we know from the small angle approximation (or, more formally from a Taylor series expansion) that $\\sin[\\theta(s)]\\approx \\theta(s)$ <i>et voila</i> the equation is no longer nonlinear. We a little bit of work, we can manipulate this linear equation into the equation you are more familiar with, the equation of an elastic curve\n",
    "\\begin{equation}\n",
    "EI \\frac{d^4w}{dx^4}=q(x),\n",
    "\\tag{2}\n",
    "\\end{equation}\n",
    "where $EI$ is the bending or flexural rigidity where $E$ is Young's elastic modulus, $I$ is the [second moment of area](https://en.wikipedia.org/wiki/Second_moment_of_area), and $q(x)$ is the distributed load acting transverse or orthogonal to the beam's neutral axis - it has units of force per unit length. Here, I have assumed that $E$ and $I$ do not change along the $x$ axis of the beam, otherwise equation (2) becomes a bit more complicated. You may be wondering why we're now taking derivatives with respect to $x$, which is the Cartesean coordinate running along the beam's neutral axis when the beam is <b>undeformed</b>, rather than $s$, which is a coordinate running along the neutral axis of the <b>deformed</b>, or bent, beam. The reason we can use the <b>undeformed</b> configuration, and thus take derivatives with respect to $x$, is because we assumed the <b>slope of the beam is small</b>, and this means that $s\\approx x$. Because this fourth-order [ordinary differential equation](https://en.wikipedia.org/wiki/Ordinary_differential_equation) is <b>linear</b> (remember, we are assuming the beam is bent, but not too much), it is straightforward to solve.\n",
    "\n",
    "For instance, let's see how to solve equation (2) for the case of a simply supported beam under a uniform load $q(x)=q$."
   ]
  },
  {
   "cell_type": "code",
   "execution_count": 2,
   "metadata": {},
   "outputs": [],
   "source": [
    "# Here are some common libraries that expand the functionality of python\n",
    "import math         # sine, cosine, sqrt, etc.\n",
    "import numpy as np  # so we can work with matrices\n",
    "\n",
    "import matplotlib\n",
    "import matplotlib.pyplot as plt # plotting\n",
    "\n",
    "import sympy as sp        # symbolic calculations"
   ]
  },
  {
   "cell_type": "code",
   "execution_count": 10,
   "metadata": {},
   "outputs": [],
   "source": [
    "# We need to tell python what variables we would like to define as \"symbols\" so we can use sympy\n",
    "x, L, E, I = sp.symbols('x L E I') # x coord, beam length, deflection, elastic modulus, second moment of area\n",
    "P, q = sp.symbols('P q') # force, force/length\n",
    "\n",
    "w = sp.Function(\"w\")(x) # the deflection w is a function of x\n",
    "w_    = sp.Derivative(w,x,1) # first derivative of w w.r.t x\n",
    "w__   = sp.Derivative(w,x,2) # second derivative of w w.r.t x\n",
    "w___  = sp.Derivative(w,x,3) # third derivative of w w.r.t x\n",
    "w____ = sp.Derivative(w,x,4) # fourth derivative of w w.r.t x"
   ]
  },
  {
   "cell_type": "code",
   "execution_count": 11,
   "metadata": {},
   "outputs": [
    {
     "ename": "TypeError",
     "evalue": "'w' object is not callable",
     "output_type": "error",
     "traceback": [
      "\u001b[0;31m---------------------------------------------------------------------------\u001b[0m",
      "\u001b[0;31mTypeError\u001b[0m                                 Traceback (most recent call last)",
      "\u001b[0;32m<ipython-input-11-707f9b7169cb>\u001b[0m in \u001b[0;36m<module>\u001b[0;34m\u001b[0m\n\u001b[1;32m      2\u001b[0m \u001b[0meq\u001b[0m \u001b[0;34m=\u001b[0m \u001b[0msp\u001b[0m\u001b[0;34m.\u001b[0m\u001b[0mEq\u001b[0m\u001b[0;34m(\u001b[0m\u001b[0mE\u001b[0m\u001b[0;34m*\u001b[0m\u001b[0mI\u001b[0m\u001b[0;34m*\u001b[0m\u001b[0mw____\u001b[0m\u001b[0;34m-\u001b[0m\u001b[0mq\u001b[0m\u001b[0;34m,\u001b[0m\u001b[0;36m0\u001b[0m\u001b[0;34m)\u001b[0m\u001b[0;34m\u001b[0m\u001b[0;34m\u001b[0m\u001b[0m\n\u001b[1;32m      3\u001b[0m \u001b[0;31m# we need four boundary conditions for this 4th order ODE\u001b[0m\u001b[0;34m\u001b[0m\u001b[0;34m\u001b[0m\u001b[0;34m\u001b[0m\u001b[0m\n\u001b[0;32m----> 4\u001b[0;31m \u001b[0mbc1\u001b[0m \u001b[0;34m=\u001b[0m \u001b[0msp\u001b[0m\u001b[0;34m.\u001b[0m\u001b[0mEq\u001b[0m\u001b[0;34m(\u001b[0m\u001b[0mw\u001b[0m\u001b[0;34m(\u001b[0m\u001b[0;36m0\u001b[0m\u001b[0;34m)\u001b[0m\u001b[0;34m,\u001b[0m\u001b[0;36m0\u001b[0m\u001b[0;34m)\u001b[0m\u001b[0;34m\u001b[0m\u001b[0;34m\u001b[0m\u001b[0m\n\u001b[0m\u001b[1;32m      5\u001b[0m \u001b[0mbc2\u001b[0m \u001b[0;34m=\u001b[0m \u001b[0msp\u001b[0m\u001b[0;34m.\u001b[0m\u001b[0mEq\u001b[0m\u001b[0;34m(\u001b[0m\u001b[0mw__\u001b[0m\u001b[0;34m(\u001b[0m\u001b[0;36m0\u001b[0m\u001b[0;34m)\u001b[0m\u001b[0;34m,\u001b[0m\u001b[0;36m0\u001b[0m\u001b[0;34m)\u001b[0m\u001b[0;34m\u001b[0m\u001b[0;34m\u001b[0m\u001b[0m\n\u001b[1;32m      6\u001b[0m \u001b[0mbc3\u001b[0m \u001b[0;34m=\u001b[0m \u001b[0msp\u001b[0m\u001b[0;34m.\u001b[0m\u001b[0mEq\u001b[0m\u001b[0;34m(\u001b[0m\u001b[0mw\u001b[0m\u001b[0;34m(\u001b[0m\u001b[0mL\u001b[0m\u001b[0;34m)\u001b[0m\u001b[0;34m,\u001b[0m\u001b[0;36m0\u001b[0m\u001b[0;34m)\u001b[0m\u001b[0;34m\u001b[0m\u001b[0;34m\u001b[0m\u001b[0m\n",
      "\u001b[0;31mTypeError\u001b[0m: 'w' object is not callable"
     ]
    }
   ],
   "source": [
    "# here is equation (2) in python's sympy: sp.Eq(LHS,RHS). I've moved q to the LHS (left hand side) for convenience.\n",
    "eq = sp.Eq(E*I*w____-q,0)\n",
    "# we need four boundary conditions for this 4th order ODE\n",
    "bc1 = sp.Eq(w(0),0) # i'm doing something wrong here\n",
    "bc2 = sp.Eq(w__(0),0)\n",
    "bc3 = sp.Eq(w(L),0)\n",
    "bc4 = sp.Eq(w__(L),0)\n",
    "\n",
    "sp.dsolve((eq, bc1, bc2, bc3, bc4), w(x)) # i don't think i'm inputting the BCs properly"
   ]
  },
  {
   "cell_type": "markdown",
   "metadata": {},
   "source": [
    "Lab layout:\n",
    "\n",
    "(1) Have them use a ruler or some similarly shaped object. Clamp it at both ends (or only one end, I guess we could give them the choice?). This can be done by placing heavy books at the ends, or duct tape. If they don't have those things, I think they could just use the ruler placed in between some supports (books, ?) and solve the simply supported problem?\n",
    "\n",
    "(2) Have them measure $L$ - the distance between the supports. If CC or SS, add masses at the center of the beam, measure w(L/2) via image processing as a function of mass (and then calculate the force from f=ma). Plot this data. Ask similar questions here as with the last lab: how does their data look? is there a trend or is it scattered (if it's very scattered, maybe they should consider retaking the measurements.\n",
    "\n",
    "(3) Have them determine/estimate $E$ for the material they are using. <b>should we link to material databases, or just tell them to do a search?</b>. Have them calculate $I$ for their beam. \n",
    "\n",
    "(4) Solve the beam equation for this specific loading. Input x=L/2 to get the solution in terms of the deflection where the mass is hanging. Plot this with their data. <b>In writing this out, I wonder if the cantilever configuration will be easiest... what do you think?</b>\n",
    "\n",
    "(5) Discussion should be similar to the last lab. Here, are assumptions are small strains (Hooke's law), but perhaps more importantly small slopes (these are not the same). How does EB theory compare for all of their loads? Do they stay in the \"small slope\" regime, or do they notice where their data starts to deviate? <b>Is it worth the hassle of having them also plot circles and parabolas to show the results are not the same? Maybe not...</b>\n",
    "\n",
    "(6) <b>Would it be fun/easy to have them plot w(x) vs. x for a particular load, and overlay this on one of their images?</b>\n",
    "    \n",
    "(7) <b>Should we have them non-dimensionalize the beam equation or is this a bridge too far?</b>"
   ]
  },
  {
   "cell_type": "code",
   "execution_count": null,
   "metadata": {},
   "outputs": [],
   "source": []
  }
 ],
 "metadata": {
  "kernelspec": {
   "display_name": "Python 3",
   "language": "python",
   "name": "python3"
  },
  "language_info": {
   "codemirror_mode": {
    "name": "ipython",
    "version": 3
   },
   "file_extension": ".py",
   "mimetype": "text/x-python",
   "name": "python",
   "nbconvert_exporter": "python",
   "pygments_lexer": "ipython3",
   "version": "3.7.4"
  }
 },
 "nbformat": 4,
 "nbformat_minor": 2
}
