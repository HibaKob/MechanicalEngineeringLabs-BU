{
 "cells": [
  {
   "cell_type": "markdown",
   "metadata": {},
   "source": [
    "# Introduction to Jupyter notebooks\n",
    "\n",
    "This semester's ME305 labs will reside in [Jupyter notebooks](https://jupyter.org) like this one. You can run all of the notebooks in a browser with Google Colab without installing anything -- that's best for our purposes. If you're interested, however, you can install [Anaconda](https://jupyter.readthedocs.io/en/latest/install.html#installing-jupyter-using-anaconda-and-conda), then follow the instructions to intall Jupyter locally.\n",
    "\n",
    "Jupyter notebooks contain computer code (Python) and rich text elements (paragraphs, equations, figures, links, etc…). You won't need much coding knowledge, but this notebook will provide a very limited intro to some of the features you'll need to use for labs.\n",
    "\n",
    "**Remember to work collaboratively with your partner. You and your partner should view this notebook at the same time. You should EACH discuss and edit. Cloud record & submit EACH MEETING (it's fine if you meet more than once to complete the assignment.)  **"
   ]
  },
  {
   "cell_type": "markdown",
   "metadata": {},
   "source": [
    "##  Part 1: Markdown cells ##\n",
    "Blocks like this one, which show formatted text, are Markdown cells. (Optional/for future reference: Learn more about [Markdown formatting](https://jupyter-notebook.readthedocs.io/en/stable/examples/Notebook/Working%20With%20Markdown%20Cells.html).)\n",
    "\n",
    "Double click in this cell to edit. Delete the HTML lines and type something in the blank space below:\n",
    "\n",
    "\n",
    "<p>&nbsp;</p>\n",
    "<p>&nbsp;</p>\n",
    "<p>&nbsp;</p>\n",
    "\n",
    "\n",
    "... and press SHIFT + ENTER to run this markdown cell."
   ]
  },
  {
   "cell_type": "markdown",
   "metadata": {},
   "source": [
    "You can also type equations, using [LATeX](http://www.onemathematicalcat.org/MathJaxDocumentation/TeXSyntax.htm) syntax, e.g. \n",
    "\n",
    "$\\sigma = \\frac{PL}{EA}$\n",
    "\n",
    "Now, create a new markdown cell below this. In Colab, click \"+Text\" at the top of the screen. Type something else **that includes an equation**, and run the cell."
   ]
  },
  {
   "cell_type": "markdown",
   "metadata": {},
   "source": [
    "## Part 2: Code cells\n",
    "\n",
    "Below is a Code cell which will install and load the Python libraries we need. This is usually the first thing in a Jupyter nb. Note that within a code cell, you can create a comment with the \"#\" symbol.\n",
    "\n",
    "\n",
    "````\n",
    "# this is a comment \n",
    "````\n",
    "\n",
    "Press SHIFT + ENTER to run the code cell below:"
   ]
  },
  {
   "cell_type": "code",
   "execution_count": null,
   "metadata": {},
   "outputs": [],
   "source": [
    "install_mpld3 = !pip install \"git+https://github.com/mpld3/mpld3\" # you won't automatically have this \n",
    "# library for interactive plotting, so you have to install it\n",
    "import matplotlib.pyplot as plt   # for plotting\n",
    "import numpy as np                # for arrays\n",
    "import pandas as pd               # for data/tables\n",
    "from skimage import io            # working with images\n",
    "from IPython.display import Image,display # images in colab\n",
    "import mpld3                      # interacting with images\n",
    "from mpld3 import plugins         # getting pixel data from images\n",
    "import os                         # navigating through files"
   ]
  },
  {
   "cell_type": "markdown",
   "metadata": {},
   "source": [
    "### Basic math\n",
    "\n",
    "For convenience, you may want to do some [basic mathematical operations](https://en.wikibooks.org/wiki/Python_Programming/Basic_Math) in your code cells. \n",
    "\n",
    "The cell below will print the result of $\\mid (\\frac{2-3}{5 \\cdot 6})^{1/3} \\mid$."
   ]
  },
  {
   "cell_type": "code",
   "execution_count": null,
   "metadata": {},
   "outputs": [],
   "source": [
    "abs(((2-3)/(5*6))**(1/3)) # Note, \"to the power of\" is **"
   ]
  },
  {
   "cell_type": "markdown",
   "metadata": {},
   "source": [
    "You could also perform mathematical operations with variables."
   ]
  },
  {
   "cell_type": "code",
   "execution_count": null,
   "metadata": {},
   "outputs": [],
   "source": [
    "radius = 5\n",
    "circumference = 2*np.pi*radius # Note, we use np.pi for pi.\n",
    "area = np.pi*radius**2 \n",
    "area "
   ]
  },
  {
   "cell_type": "markdown",
   "metadata": {},
   "source": [
    "### Print statements\n",
    "\n",
    "If you want more than one result for a single code cell, you can use print statements.\n",
    "\n",
    "Note that printing text (strings) requires single or double quotes."
   ]
  },
  {
   "cell_type": "code",
   "execution_count": null,
   "metadata": {},
   "outputs": [],
   "source": [
    "print(area)\n",
    "print(circumference)\n",
    "print('Hello world')\n",
    "print(\"Hello again, world\")"
   ]
  },
  {
   "cell_type": "markdown",
   "metadata": {},
   "source": [
    "### DataFrames with Pandas\n",
    "\n",
    "The [Pandas DataFrame](https://realpython.com/pandas-dataframe/#introducing-the-pandas-dataframe) is a structure that contains two-dimensional data (think a matrix of rows and columns) with corresponding labels. It's a convenient way to store and organize data. \n",
    "\n",
    "You can [create DataFrames](https://www.geeksforgeeks.org/creating-a-pandas-dataframe/) a variety of ways. Here, we'll make <i>lists</i>, label the lists via a <i>dictionary</i>, and turn that dictionary into a DataFrame.\n",
    "\n",
    "We already ran the necessary statement\n",
    "\n",
    "````\n",
    "import pandas as pd \n",
    "````\n",
    "\n",
    "so we can begin working with the Pandas package."
   ]
  },
  {
   "cell_type": "code",
   "execution_count": null,
   "metadata": {},
   "outputs": [],
   "source": [
    "force_list = [0,1,2,3,4,5] # make a list\n",
    "force_list.append(6) # add an entry to the end of the list\n",
    "print(force_list) # print to make sure \"append\" worked...\n",
    "displacement_list = [0,0.5,1.0,1.5,2.0,2.5,3.0] # make another list\n",
    "print(len(force_list), len(displacement_list)) \n",
    "# we can only make a dataframe if the lists are the same length -- let's check.\n",
    "\n",
    "d = {'force':force_list, 'displacement':displacement_list} # this dictionary will become our dataframe. \n",
    "# the format is: {'name of column':data in column,...}\n",
    "df = pd.DataFrame(d) # make a dataframe out of the dictionary\n",
    "\n",
    "df # see what the dataframe looks like"
   ]
  },
  {
   "cell_type": "markdown",
   "metadata": {},
   "source": [
    "Want to add columns to your dataframe?"
   ]
  },
  {
   "cell_type": "code",
   "execution_count": null,
   "metadata": {},
   "outputs": [],
   "source": [
    "df['time'] = [0,10,20,30,40,50,60] # make a new column called 'time'\n",
    "df['displacement_2'] = [0.0,1,2,3,4,5,6] # and one called 'displacement_2'\n",
    "df.head(2) # check out only the first 2 rows."
   ]
  },
  {
   "cell_type": "markdown",
   "metadata": {},
   "source": [
    "Need to delete a row?"
   ]
  },
  {
   "cell_type": "code",
   "execution_count": null,
   "metadata": {},
   "outputs": [],
   "source": [
    "newdf = df.drop([6]) # make a copy of this df where we drop row 6.\n",
    "newdf # check it out"
   ]
  },
  {
   "cell_type": "markdown",
   "metadata": {},
   "source": [
    "We could have said \n",
    "\n",
    "```\n",
    "df = df.drop([6])\n",
    "``` \n",
    "instead of creating a new dataframe, but be careful because then we lose row 6 forever!"
   ]
  },
  {
   "cell_type": "markdown",
   "metadata": {},
   "source": [
    "To index, or \"call out\" a column, \n",
    "\n",
    "````\n",
    "df['column'] \n",
    "````\n",
    "and \n",
    "````\n",
    "df.column\n",
    "````\n",
    "are equivalent. You can access a <i> slice </i> of a column or a dataframe as follows:"
   ]
  },
  {
   "cell_type": "code",
   "execution_count": null,
   "metadata": {},
   "outputs": [],
   "source": [
    "print(df['time'][0:2]) # print the first 2 rows of the column 'time'\n",
    "print(df.time[:2]) # same thing. You'll see the indices and the values when we print.\n",
    "df[3:-2] # a negative index starts counting from the end, i.e. here, -1 = 6 and -2 = 5, \n",
    "# so we could equivalently say df[3:5]"
   ]
  },
  {
   "cell_type": "markdown",
   "metadata": {},
   "source": [
    "### Plotting with matplotlib\n",
    "\n",
    "[Matplotlib](https://en.wikipedia.org/wiki/Matplotlib) is a MATLAB-esque plotting package. We've already loaded its plotting library:\n",
    "\n",
    "```\n",
    "import matplotlib.pyplot as plt\n",
    "```\n",
    "so let's proceed, and plot some things from our dataframe.\n",
    "\n",
    "There's some non-intuitive syntax involved. Don't worry about the details for now -- you can always adapt code. The basic structure is this:\n",
    "\n",
    "``` \n",
    "fig, ax = plt.subplots()\n",
    "dataframe.plot.scatter('x column','y column',ax=ax)\n",
    "plt.show()\n",
    "```\n",
    "\n",
    "and we'll explore a few aditional options below.\n",
    "\n",
    "For more on plotting, see the Appendix."
   ]
  },
  {
   "cell_type": "code",
   "execution_count": null,
   "metadata": {
    "scrolled": true
   },
   "outputs": [],
   "source": [
    "fig, ax = plt.subplots(figsize=(4,4)) # create a figure whose size is 4x4.\n",
    "df.plot.scatter('force','displacement',s=60,c='olive',ax=ax) # scatter plot of 2 df columns against one another. \n",
    "# Make the markers size 60 and color olive, and place the plot in the figure we just created (ax=ax does this).\n",
    "ax.set_xlabel('Force (N)',fontsize=14) # label the x-axis\n",
    "ax.set_ylabel('Displacement (mm)',fontsize=14) # label the y-axis\n",
    "ax.set_title('Scatter plot from dataframe',fontsize=18) # make a title\n",
    "plt.show() "
   ]
  },
  {
   "cell_type": "markdown",
   "metadata": {},
   "source": [
    "## Part 3: Uploading photos\n",
    "\n",
    "### Take a photo\n",
    "You'll often be asked to take photos as you perform experiments. You'll then import them to your Jupyter notebook and work with them there.\n",
    "\n",
    "Please ** do the following before you proceed: **\n",
    "\n",
    "- take a photo (you can use your cell phone, laptop camera, tablet...) of something around you related to ME305 (don't overthink this).\n",
    "- add it to your group's shared [Google Drive](https://drive.google.com/drive/my-drive). Place the photo in the Folder \"Lab 0\" with a descriptive name (e.g. 'MJ_spaghetti.jpg'). (You can do this online or with Google Drive Desktop."
   ]
  },
  {
   "cell_type": "markdown",
   "metadata": {},
   "source": [
    "### Mount Drive & upload photos to this notebook\n",
    "\n",
    "**Each member should take the steps below.** You can copy the next cell and share one notebook (if you want, one partner can screen share while uploading the others' images, to avoid lags), or copy the entire notebook.\n",
    "\n",
    "In Google Colab: \n",
    "\n",
    "1. On the left side of your screen, click the folder icon. \n",
    "\n",
    "2. Next, click the \"Mount Drive\" button. Click \"Connect to Google Drive\".\n",
    "\n",
    "3. In the panel on the left, click the small arrow to expand the folder \"drive\".\n",
    "\n",
    "4. Expand \"Shared drives\"\n",
    "\n",
    "5. Expand your ME305 lab group's shared drive, then \"Lab 0\".\n",
    "\n",
    "Make sure you can see the filenames for your images and your group members' images. Then you'll upload your image to this notebook:\n",
    "\n",
    "6. Hover the mouse to the right (over the\n",
    "filename) until you see 3 dots. Click, and select \"Copy Path\". \n",
    "\n",
    "7. Now, run the next cell and paste (CTRL + V) the path when prompted.\n",
    "\n",
    "<p>&nbsp;</p>\n",
    "\n",
    "Aside: If you run this code later in a Jupyter Notebook via Anaconda, you'll type the file path (no quotes) when prompted, which probably looks like:\n",
    "\n",
    "````\n",
    "/Users/yourname/Desktop/yourimage.jpg\n",
    "````\n",
    "\n",
    "<p>&nbsp;</p>"
   ]
  },
  {
   "cell_type": "markdown",
   "metadata": {},
   "source": [
    "** Note: ** When uploading an image to Colab, if you get a Runtime Error and/or don't see any output after a while besides the file path, try reducing the size (i.e. cropping) and/or resolution of your image. "
   ]
  },
  {
   "cell_type": "code",
   "execution_count": null,
   "metadata": {
    "scrolled": true
   },
   "outputs": [],
   "source": [
    "path = str(input(\"Paste or type your file path: \")) # IF YOU DON'T WANT TO BE PROMPTED, comment this line out,\n",
    "# path = '/file/path/here' # ... & uncomment this one, adding your file path in single or double quotes.\n",
    "\n",
    "im = io.imread(path) # read the image \n",
    "\n",
    "fig, ax = plt.subplots(figsize=(7,7)) # create a figure\n",
    "io.imshow(im) # \"plot\" the figure \n",
    "plugins.connect(fig, plugins.MousePosition(fontsize=14)) # when you hover the pointer over the photo, \n",
    "# you'll see the (x,y) pixel coordinates.\n",
    "mpld3.display() "
   ]
  },
  {
   "cell_type": "markdown",
   "metadata": {},
   "source": [
    "You may notice the axis coordinates and the (x,y) pixel values in the bottom right corner. This is due to the last 2 lines of code above, from the package mpld3. We'll use this feature in future labs to take measurements. For now, just make sure you can see the (x,y) values (**and let your TA know if not!**)\n",
    "\n",
    "If you have a photo for each group member above (or in a copy of this nb), you can check out the Appendix to learn about some more plot options that may be helpful. Otherwise, you're done."
   ]
  },
  {
   "cell_type": "markdown",
   "metadata": {},
   "source": [
    "## Appendix: more on plotting \n",
    "\n",
    "Nicely arranged subplots, plotting lists (instead of df columns), and some more plot options (for future reference if nothing else)."
   ]
  },
  {
   "cell_type": "code",
   "execution_count": null,
   "metadata": {},
   "outputs": [],
   "source": [
    "fig, ax = plt.subplots(nrows=1,ncols=2,figsize=(10,4)) # make 2 figures arranged side-by-side.\n",
    "# now \"ax\" is an array, i.e. ax = [ax[0], ax[1]]. \n",
    "# so we'll place the first plot in ax[0] the same way as before\n",
    "df.plot.line('time','displacement',c='red',alpha=0.25,ax=ax[0],label='Sample 1') # line plot with 25% opacity (\"alpha=0.25\" does this)\n",
    "# the labels are for the legend.\n",
    "df.plot.scatter('time','displacement_2',c='blue',s=30,alpha=0.25,ax=ax[0],label='Sample 2') \n",
    "ax[0].set_xlabel('Time (s)',fontsize=14)\n",
    "ax[0].set_ylabel('Displacement (mm)',fontsize=14) \n",
    "ax[0].set_title('Line plot from dataframe',fontsize=18)\n",
    "ax[0].legend(loc='upper left') # create & place the legend.\n",
    "\n",
    "# rather than plotting dataframe columns, you could also plot 2 lists against one another. The syntax is different:\n",
    "ax[1].plot(force_list,displacement_list,'ko--') # to plot from a list, use ax.plot(x,y,marker options). \n",
    "# the marker options here are 'ko-', which says 'k' for black + 'o--' as the marker type.\n",
    "ax[1].set_xlabel('F (N)',fontsize=14)\n",
    "ax[1].set_ylabel('$\\delta$ (mm)',fontsize=14) \n",
    "ax[1].set_title('Plot from lists',fontsize=18)\n",
    "\n",
    "plt.show()"
   ]
  }
 ],
 "metadata": {
  "kernelspec": {
   "display_name": "Python 3",
   "language": "python",
   "name": "python3"
  },
  "language_info": {
   "codemirror_mode": {
    "name": "ipython",
    "version": 3
   },
   "file_extension": ".py",
   "mimetype": "text/x-python",
   "name": "python",
   "nbconvert_exporter": "python",
   "pygments_lexer": "ipython3",
   "version": "3.7.3"
  }
 },
 "nbformat": 4,
 "nbformat_minor": 2
}
