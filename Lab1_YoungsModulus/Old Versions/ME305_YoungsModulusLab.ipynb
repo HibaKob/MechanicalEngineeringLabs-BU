{
 "cells": [
  {
   "cell_type": "markdown",
   "metadata": {},
   "source": [
    "# Lab 1: How to Measure Material Properties"
   ]
  },
  {
   "cell_type": "markdown",
   "metadata": {},
   "source": [
    "Perhaps the most fundamental property of a material is: how does it behave when you push or pull on it? Is it stiff like diamond or soft like Jello? The relationship between <b>forces</b> and <b>deformation</b> is fundamental to the study of materials science, engineering mechanics, biomechanics, and physics, and yet when presented with a new material, we are unable to predict this property from theory - <b>we need to measure it experimentally</b>. \n",
    "\n",
    "What is remarkable, is that when the relationship between force and deformation was measured for different materials, a common trend emerged. The [polymath](https://en.wikipedia.org/wiki/Polymath) [Robert Hooke](https://en.wikipedia.org/wiki/Robert_Hooke) was the first to state the law that relates force to deformation (stretching/compression) in 1678, in which he wrote:\n",
    "<blockquote>\n",
    "    <i>ut tensio, sic vis</i> (\"as the extension, so the force\")\n",
    "</blockquote>    \n",
    "In other words, the force required to stretch a spring is proportional to the amount it is stretched: the relationship between force and deformation is <b>linear</b> (as long as the material isn't stretched too much). This law is first encountered for springs, in which we write\n",
    "\\begin{equation}\n",
    "F = k x,\n",
    "\\label{hooke} \\tag{1}\n",
    "\\end{equation}\n",
    "where $F$ is the force acting to extend/compress the spring, $x$ is the amount of extension, and $k$ is the spring stiffness. \n",
    "\n",
    "In the study of the <i>mechanics of materials</i>, we generalize equation (1) to a similar equation that relates <b>stress</b> to <b>strain</b>. Why? Well, the spring stiffness $k$ depends on both materials <b>and</b> geometry - using equation (1), a thick piece of rubber will have a larger stiffness than a thin piece of rubber, so how do we isolate the <b>material properties</b> of the rubber? The answer is to correct for changes in geometry by measuring an average stress ($\\sigma_{\\text{avg}}=F/A$, <i>i.e.</i> force divided by cross sectional area) and the average strain ($\\epsilon_{\\text{avg}} = \\delta/L_0$, <i>i.e.</i> extension or compression divided by the original length), \n",
    "\\begin{equation}\n",
    "\\sigma_{\\text{avg}} = E \\epsilon_{\\text{avg}},\n",
    "\\label{hookeSS} \\tag{2}\n",
    "\\end{equation}\n",
    "where the term that measures the proportionality between stress and strain is $E$, [Young's Elastic Modulus](https://en.wikipedia.org/wiki/Young%27s_modulus). \n",
    "\n",
    "Elastic materials that are <b>homogenous</b> (its properties do not depend on <i>position</i>) and <b>isotropic</b> (its properties do not depend on <i>direction</i>) can be described by three material propertes: Young's modulus $E$, shear modulus $G$, and Poisson's ratio $\\nu$. Young's modulus measures a material's resistance to being stretched or compresses (how hard is it to deform a rectangular shaped material into a bigger/smaller rectangle?). The shear modulus measures a materials resistance to being distorted (how hard is it to distort a rectangular shaped material into a [parallelepiped](https://en.wikipedia.org/wiki/Parallelepiped)?). [Poisson's ratio](https://en.wikipedia.org/wiki/Poisson%27s_ratio) measures how much a material contracts or expands in directions perpendicular to the direction of applied extension or compression. While there are three properties that characterize a homogenous, only two are independent - <i>i.e.</i> if you measure two, you can calculate the third. For instance, the shear modulus can be calculated once you know $E$ and $\\nu$ by\n",
    "\\begin{equation}\n",
    "G = \\frac{E}{2(1+\\nu)}.\n",
    "\\tag{3}\n",
    "\\end{equation}\n",
    "\n",
    "In this lab, we will learn how to measure $E$ and $\\nu$, and we will use equation (3) to calculate $G$."
   ]
  },
  {
   "cell_type": "markdown",
   "metadata": {},
   "source": [
    "## Measuring Strain via Image Processing\n",
    "\n",
    "To determine Young's elastic modulus for a material, we would like to apply a force that stretches it in one direction, and measure the corresponding strain. For Hooke's law to be relevant, those strains need to be very small. How small? This can vary from material to material, but typically less than $1\\%$. Recall that the average strain is a measure of how much a material stretches/compresses relative to its original length, <i>i.e.</i>\n",
    "\\begin{equation}\n",
    "\\epsilon_{\\text{avg}} = \\frac{L-L_0}{L_0} = \\frac{\\delta}{L_0}, \n",
    "\\end{equation}\n",
    "where $\\delta = L-L_0$ is displacement, or difference between the deformed length $L$ and the initial length $L_0$. \n",
    "\n",
    "In the lab or in the field, strain can be measured a variety of ways. For traditional engineering materials - steel, aluminum, concrete, wood - the amount of displacement that corresponds to \"small strains\" can be incredibly small, and may require an [extensometer](https://en.wikipedia.org/wiki/Extensometer) to measure the displacement of material points. A technique that can measure strain at many points on surface simultaneously is called [Digital Image Correlation (DIC)](https://en.wikipedia.org/wiki/Digital_image_correlation_and_tracking), which involves comparing images to measure how much material points moved in response to an applied load. The simplest form of DIC can be done by hand with only a camera and a computer. \n",
    "\n",
    "Before we attempt this analysis with a real experiments, we will practice measuring strain using image processing a photograph from Wikipedia's entry on Hooke's law.\n",
    "\n",
    "First, we need to load in the Python libraries we need, which involves two steps: 1.) installing a tool that let's us measure points on a picture, and 2.) loading in libraries to help us deal with data/matrices/images/etc. Click SHIFT+ENTER to evaluate the next two cells:"
   ]
  },
  {
   "cell_type": "code",
   "execution_count": null,
   "metadata": {},
   "outputs": [],
   "source": [
    "# Interactive plotting \n",
    "# install_mpld3 = !pip install mpld3\n",
    "install2_mpld3 = !pip install \"git+https://github.com/javadba/mpld3@display_fix\""
   ]
  },
  {
   "cell_type": "code",
   "execution_count": null,
   "metadata": {},
   "outputs": [],
   "source": [
    "# Python preliminaries, various libraries we use \n",
    "import matplotlib.pyplot as plt   # matlab plotting\n",
    "import numpy as np                # working with matrices\n",
    "np.warnings.filterwarnings('ignore')\n",
    "from skimage import io            # working with images\n",
    "from IPython.display import Image,display \n",
    "import pandas as pd               # working with data/tables\n",
    "import mpld3                      # getting pixel info off images\n",
    "from mpld3 import plugins \n",
    "import os"
   ]
  },
  {
   "cell_type": "markdown",
   "metadata": {},
   "source": [
    "Next, we will initialize two lists that we will use to store force data and displacement data. At rest, we expect there to be zero displacement when zero force is applied."
   ]
  },
  {
   "cell_type": "code",
   "execution_count": null,
   "metadata": {},
   "outputs": [],
   "source": [
    "force = [0]\n",
    "displacement = [0]"
   ]
  },
  {
   "cell_type": "markdown",
   "metadata": {},
   "source": [
    "The next cell will load an image from Wikipedia by using: \n",
    "````\n",
    "io.imread('URL or File Location')\n",
    "````\n",
    "then it will show the image. In the bottom right corner, we will see the (x,y) location of any pixel that we hover the cursor over.\n",
    "\n",
    "### Procedure:\n",
    "<ol>\n",
    "    <li>Grab a pen and paper to take notes.</li>\n",
    "    <li>Run the cell below this one.</li>\n",
    "    <li><b>Measure the initial spring length</b></li>\n",
    "        <ol>\n",
    "            <li>Hover the cursor over the top of the spring, record the pixel value of the $y$ coordinate.</li>\n",
    "            <li>Hover over the bottom of the spring, record the pixel value of the $y$ coordinate.</li>\n",
    "        </ol>    \n",
    "    <li><b>Measure the spring length spring with 1 mass attached ($F=1$)</b></li>\n",
    "        <ol>\n",
    "            <li>Hover over the top of the spring, record the pixel value of the $y$ coordinate.</li>\n",
    "            <li>Hover over the bottom of the spring, record the pixel value of the $y$ coordinate.</li>\n",
    "        </ol>    \n",
    "    <li><b>Measure the spring length spring with 2 masses attached ($F=2$)</b></li>\n",
    "        <ol>\n",
    "            <li>Hover over the top of the spring, record the pixel value of the $y$ coordinate.</li>\n",
    "            <li>Hover over the bottom of the spring, record the pixel value of the $y$ coordinate.</li>\n",
    "        </ol>\n",
    "</ol>     "
   ]
  },
  {
   "cell_type": "code",
   "execution_count": null,
   "metadata": {},
   "outputs": [],
   "source": [
    "link = 'https://upload.wikimedia.org/wikipedia/commons/thumb/f/fc/Hookes-law-springs.png/1200px-Hookes-law-springs.png'\n",
    "img = io.imread(link)\n",
    "\n",
    "fig, ax = plt.subplots(figsize=(7,7))\n",
    "io.imshow(img)\n",
    "plugins.connect(fig, plugins.MousePosition(fontsize=14))\n",
    "mpld3.display()"
   ]
  },
  {
   "cell_type": "markdown",
   "metadata": {},
   "source": [
    "Calculate the initial length of the spring in units of pixels:"
   ]
  },
  {
   "cell_type": "code",
   "execution_count": null,
   "metadata": {},
   "outputs": [],
   "source": [
    "yi1 = float(input(\"Enter the y value of the upper point, with no force applied (px): \"))\n",
    "yi2 = float(input(\"Enter the y value of the lower point, with no force applied (px): \"))\n",
    "L0 = round(abs(yi2-yi1),3) # this length must be positive\n",
    "print(\"Initial length L0 =\", L0, \"pixels\")"
   ]
  },
  {
   "cell_type": "markdown",
   "metadata": {},
   "source": [
    "Calculate the deformed length of the spring. Let's use fictious values of the applied force, such that $F=1$ for one mass is hanging on the spring, and $F=2$ for two masses. Use the code below to enter those values - it will calculate $x$ and store the force and displacement in our lists. You will have to run this cell <b>twice</b> one for each measurement."
   ]
  },
  {
   "cell_type": "markdown",
   "metadata": {},
   "source": [
    "Calculate the deformed length of the spring. Let's use fictious values of the applied force, such that $F=1$ for one mass is hanging on the spring, and $F=2$ for two masses. Use the code below to enter those values - it will calculate $x$ and store the force and displacement in our lists. You will have to run this cell <b>twice</b> one for each measurement."
   ]
  },
  {
   "cell_type": "code",
   "execution_count": null,
   "metadata": {},
   "outputs": [],
   "source": [
    "# run this cell twice\n",
    "\n",
    "# ...did you make a mistake? enter the wrong value? want to start over? uncomment the following lines:\n",
    "#force = [0]\n",
    "#displacement = [0]\n",
    "\n",
    "F  = float(input(\"Enter the applied force (# of Masses): \"))\n",
    "y1 = float(input(\"Enter the y value of the upper point (px): \"))\n",
    "y2 = float(input(\"Enter the y value of the lower point (px): \"))\n",
    "L  = round(abs(y2-y1),3) # this experiment only involves tension\n",
    "x = round(L-L0,3)\n",
    "force.append(F)\n",
    "displacement.append(x)\n",
    "\n",
    "print(\"displacement =\", x, \"pixels\")"
   ]
  },
  {
   "cell_type": "markdown",
   "metadata": {},
   "source": [
    "Let's put our measurements in a table:"
   ]
  },
  {
   "cell_type": "code",
   "execution_count": null,
   "metadata": {},
   "outputs": [],
   "source": [
    "data = {'Force (unitless)': force, 'Displacement (pixels)': displacement}\n",
    "dataTable = pd.DataFrame(data)\n",
    "dataTable"
   ]
  },
  {
   "cell_type": "markdown",
   "metadata": {},
   "source": [
    "Something not correct in your data? To delete a row, use the following command:\n",
    "````\n",
    "dataTable.drop([ENTER_ROW_NUMBER_TO_DELETE])\n",
    "````\n",
    "Remember, Python starts counting from 0, not 1."
   ]
  },
  {
   "cell_type": "code",
   "execution_count": null,
   "metadata": {},
   "outputs": [],
   "source": [
    "# uncomment if you need to delete a row of data\n",
    "#dataTable.drop([1])"
   ]
  },
  {
   "cell_type": "markdown",
   "metadata": {},
   "source": [
    "Now, let's calculate the spring stiffness of the Wikipedia spring. In linear elasticity, we make the assumption that the [constitutive relationship](https://en.wikipedia.org/wiki/Constitutive_equation) between force and displacement, or stress and strain is <b>linear</b>. Therefore, if we fit our force vs. displacement data to a linear curve, the slope of the curve will be the stiffness $k$. We will use [linear regression](https://en.wikipedia.org/wiki/Linear_regression) to fit our data. The way simplest linear regression in python is by calling:\n",
    "````\n",
    "np.polyfit(displacement, force, 1)\n",
    "````\n",
    "and storing the result of that call as a variable. This will give us the best linear fit to our data in the form of $y = mx+b$. The result from Python will be a list with two numbers: [slope intercept]"
   ]
  },
  {
   "cell_type": "code",
   "execution_count": null,
   "metadata": {
    "scrolled": true
   },
   "outputs": [],
   "source": [
    "# first we must convert displacement and force from lists to a numpy array\n",
    "d = np.array(displacement)\n",
    "f = np.array(force)\n",
    "model_general = np.polyfit(displacement, force, 1) # the 1 is for linear, or 1st order polynomial\n",
    "print('F =', np.poly1d(model_general))"
   ]
  },
  {
   "cell_type": "markdown",
   "metadata": {},
   "source": [
    "What's the problem with this result? Well, Hooke's law states that $F = kx$, not $F=kx+b$. Physically, this means there should be zero displacement when there is zero force applied, and vice versa, <i>i.e.</i> $b=0$. In order to force the intercept to be equal to zero, we will use a least squares regression from the linear algebra class within numpy:\n",
    "````\n",
    "np.linalg.lstsq(d.reshape(-1,1), force)[0][0]\n",
    "````\n",
    "The result from Python will be the slope, <i>i.e.</i> the stiffness $k$."
   ]
  },
  {
   "cell_type": "code",
   "execution_count": null,
   "metadata": {},
   "outputs": [],
   "source": [
    "model_fixIntercept = np.linalg.lstsq(d.reshape(-1,1), force)[0][0]\n",
    "print('F =', round(model_fixIntercept,6), 'x')"
   ]
  },
  {
   "cell_type": "code",
   "execution_count": null,
   "metadata": {},
   "outputs": [],
   "source": [
    "# make a range of x\n",
    "disp_model = range(0, 350)\n",
    "# calculate the force from our linear model\n",
    "force_model = model_fixIntercept*disp_model\n",
    "\n",
    "plt.scatter(displacement, force)\n",
    "plt.plot(disp_model, force_model, c = 'r')\n",
    "plt.xlabel(\"Displacement (pixels)\")\n",
    "plt.ylabel(\"Force (# of Masses)\")\n",
    "plt.show()"
   ]
  },
  {
   "cell_type": "code",
   "execution_count": null,
   "metadata": {},
   "outputs": [],
   "source": [
    "k = round(model_fixIntercept, 5)\n",
    "print(\"Spring Stiffness =\", k, \"force/pixel\") "
   ]
  },
  {
   "cell_type": "markdown",
   "metadata": {},
   "source": [
    "## Modulus of a Rubber Band\n",
    "\n",
    "Now that we are able to measure <b>strain</b> from a photograph, we can measure the elastic modulus of various materials by applying known forces to them. We can use common household materials to apply different forces. Any combination of the various objects listed in [Appendix A](#mass) will enable you to apply a range of forces. \n",
    "\n",
    "<blockquote>\n",
    "Your task for this lab is to <b>measure</b> the elastic modulus $E$ and Poisson ratio $\\nu$ and use equation (3) to <b>calculate</b> the shear modulus $G$ of a rubber band.\n",
    "</blockquote>\n",
    "\n",
    "In order to measure $E$ and $\\nu$ of a material, we need to measure the following things:\n",
    "<ol>\n",
    "    <li>The object's initial length $L_0$, and initial cross sectional area $A_0$. For this lab, we will be studying rubber bands, which typically have a rectangular cross section, therefore we will need the width $W_0$ and thickness $h_0$ to calculate $A_0=W_0h_0$.  </li>\n",
    "    <ol>\n",
    "        <li>Typically, $L_0$ is <b>not</b> the total length of the object/specimen. Instead, we mark two points on the object far away from the edges, and measure how the distance between these points changes. Why? Well, for this measurement to be accurate, we need the stress to be uniform across the entire cross section of the material. According to <a href=\"https://en.wikipedia.org/wiki/Saint-Venant%27s_principle\">St. Venant's Principle</a>, this typically occurs far away from where the load is applied.\n",
    "    </ol>                \n",
    "    <li>The deformed length $L$ and width $W$ for each force $F$ we apply. </li>\n",
    "    <ol>\n",
    "        <li>Therefore, we can calculate the axial strain as $\\epsilon_{\\text{axial}}=(L-L_0)/L_0$.</li>\n",
    "        <li>...and the transverse strain as $\\epsilon_{\\text{transverse}}=(W-W_0)/W_0$. </li>\n",
    "    </ol>\n",
    "    <li>We can calculate Poisson's ratio by: $\\nu=-\\epsilon_{\\text{transverse}}/\\epsilon_{\\text{axial}}$</li>\n",
    "    <li>Dividing $F$ by the initial cross sectional area $A_0$ gives a measure of the \"<a href=\"https://en.wikipedia.org/wiki/Stress%E2%80%93strain_curve#Engineering_stress_and_strain\">engineering stress</a>\" or \"nominal stress\", $\\sigma$.</li>\n",
    "    <li> A plot of stress vs. axial strain will allow us to calculate $E$ using a linear regression.\n",
    "</ol>    \n",
    "\n"
   ]
  },
  {
   "cell_type": "markdown",
   "metadata": {},
   "source": [
    "### Example Experiments\n",
    "\n",
    "Here's an example showing images of a rubber band in its initial state (left) and deformed state (right). I have labeled $L_0$, $L$, $W_0$, and $W$. (Note: I did not include a side image which will be necessary to measure $h_0$.) In the deformed image, the rubber band is loaded with a C battery. According to [Appendix A](#mass) has a mass of $m=67$ g, which corresponds to a force of $F = 0.657$ N. In each image, I have included an object with a known physical dimension - in this case, a AA battery whose length is $L_b = 50.5$ mm (see: [Appendix A](#mass)). This is important, as it allows us to convert our measurements from pixels to mm (see: [Appendix B](#tips)). \n",
    "\n",
    "<img src = \"https://www.bu.edu/moss/files/2020/05/rubberBand.jpg\">"
   ]
  },
  {
   "cell_type": "markdown",
   "metadata": {},
   "source": [
    "### Importing Images\n",
    "\n",
    "You will need to take 7-9 photos in total: 2 photos of the initial, unloaded rubber band (one front and one side view), and 5-7 photos of the rubber band with different weights (front view only). See: [Appendix B](#tips) for photo tips.\n",
    "\n",
    "Save them somewhere easily accessible (e.g. your Desktop), and preferably with descriptive names (e.g. \"initial.jpg\", \"initial_side.jpg\", etc.) \n",
    "\n",
    "**If you're working in Colab**, there's an extra step to access your local files.  \n",
    "\n",
    "On the left side of your screen, click the folder icon. \n",
    "\n",
    "Next, click the Upload button. Find all the images you just saved, and click Choose. \n",
    "\n",
    "You should see them all in the panel on the left. You can leave this open for the next few steps."
   ]
  },
  {
   "cell_type": "markdown",
   "metadata": {},
   "source": [
    "### Code for the Lab"
   ]
  },
  {
   "cell_type": "code",
   "execution_count": null,
   "metadata": {},
   "outputs": [],
   "source": [
    "del F, y1, y2, yi1, yi2, L0, L, force, displacement"
   ]
  },
  {
   "cell_type": "code",
   "execution_count": null,
   "metadata": {},
   "outputs": [],
   "source": [
    "force = [0]\n",
    "stress = [0]\n",
    "strain_axial = [0]\n",
    "strain_transverse = [0]\n",
    "poisson = [0]"
   ]
  },
  {
   "cell_type": "markdown",
   "metadata": {},
   "source": [
    "### Initial Dimensions of the Rubber Band\n",
    "\n",
    "**In Colab:**\n",
    "\n",
    "To upload the photo of your rubber band with no weight (**front view**), locate it in the Files tab on the left side of your screen. Hover the mouse to the right until you see 3 dots. Click, and select \"Copy Path\". \n",
    "\n",
    "Now, run the next cell and paste (CTRL + V) the path when prompted.\n",
    "\n",
    "\n",
    "If you're working in a **Jupyter Notebook via Anaconda**, you'll type the file path when prompted, which probably looks like:\n",
    "\n",
    "````\n",
    "/Users/yourname/Desktop/yourimage.jpg\n",
    "````\n",
    "Note, you don't need quotes here."
   ]
  },
  {
   "cell_type": "code",
   "execution_count": null,
   "metadata": {},
   "outputs": [],
   "source": [
    "path = str(input(\"Paste or type your file path: \"))\n",
    "im = io.imread(path)\n",
    "\n",
    "fig, ax = plt.subplots(figsize=(7,7))\n",
    "io.imshow(im)\n",
    "plugins.connect(fig, plugins.MousePosition(fontsize=14))\n",
    "mpld3.display()"
   ]
  },
  {
   "cell_type": "code",
   "execution_count": null,
   "metadata": {},
   "outputs": [],
   "source": [
    "# measure the length of the object in pixels\n",
    "actualLength = float(input(\"Enter the physical length of an object in your image (mm): \"))\n",
    "pixelLength  = float(input(\"Enter the length of that object in pixels (px): \"))\n",
    "pixel_to_mm = actualLength/pixelLength\n",
    "print('The conversion of pixels to mm is', pixel_to_mm, 'mm/px for this image.')"
   ]
  },
  {
   "cell_type": "code",
   "execution_count": null,
   "metadata": {},
   "outputs": [],
   "source": [
    "# Measure L_0\n",
    "L0_px = float(input(\"Enter the initial length, L0, in pixels (px): \"))\n",
    "L0  = round(L0_px*pixel_to_mm,3) \n",
    "print('The initial length is', L0, 'mm')"
   ]
  },
  {
   "cell_type": "code",
   "execution_count": null,
   "metadata": {},
   "outputs": [],
   "source": [
    "# Measure W_0\n",
    "W0_px = float(input(\"Enter the initial width, W0, in pixels (px): \"))\n",
    "W0  = round(W0_px*pixel_to_mm,3) \n",
    "print('The initial width is', W0, 'mm')"
   ]
  },
  {
   "cell_type": "markdown",
   "metadata": {},
   "source": [
    "Now retrieve the image of the **side-view** of the undeformed rubber band in the same way."
   ]
  },
  {
   "cell_type": "code",
   "execution_count": null,
   "metadata": {
    "scrolled": true
   },
   "outputs": [],
   "source": [
    "path = str(input(\"Paste or type your file path: \"))\n",
    "im = io.imread(path)\n",
    "\n",
    "fig, ax = plt.subplots(figsize=(7,7))\n",
    "io.imshow(im)\n",
    "plugins.connect(fig, plugins.MousePosition(fontsize=14))\n",
    "mpld3.display()"
   ]
  },
  {
   "cell_type": "code",
   "execution_count": null,
   "metadata": {},
   "outputs": [],
   "source": [
    "# Measure h_0\n",
    "pixelLength  = float(input(\"Enter the length of the reference object in pixels (px): \"))\n",
    "pixel_to_mm = actualLength/pixelLength\n",
    "print('The conversion of pixels to mm is', pixel_to_mm, 'mm/px for this image.')\n",
    "h0_px = float(input(\"Enter the initial thickness, h0, in pixels (px): \"))\n",
    "h0  = round(h0_px*pixel_to_mm,3) \n",
    "A0  = W0*h0\n",
    "print('The initial thickness is', h0, 'mm', 'and the initial cross sectional area is', A0, 'mm^2')"
   ]
  },
  {
   "cell_type": "markdown",
   "metadata": {},
   "source": [
    "### Deformed Dimensions of Rubber Band"
   ]
  },
  {
   "cell_type": "code",
   "execution_count": null,
   "metadata": {},
   "outputs": [],
   "source": [
    "# repeat this cell 5-7 times for all the images you have\n",
    "path = str(input(\"Paste or type your file path: \"))\n",
    "im = io.imread(path)\n",
    "\n",
    "fig, ax = plt.subplots(figsize=(7,7))\n",
    "io.imshow(im)\n",
    "plugins.connect(fig, plugins.MousePosition(fontsize=14))\n",
    "mpld3.display()"
   ]
  },
  {
   "cell_type": "code",
   "execution_count": null,
   "metadata": {},
   "outputs": [],
   "source": [
    "# repeat this cell 5-7 times for all the images you have\n",
    "pixelLength  = float(input(\"Enter the length of the reference object in pixels (px): \"))\n",
    "pixel_to_mm = actualLength/pixelLength\n",
    "print('The conversion of pixels to mm is', pixel_to_mm, 'mm/px for this image.')\n",
    "\n",
    "F  = float(input(\"Enter the applied force (N): \"))\n",
    "sigma = F/A0\n",
    "L_px = float(input(\"Enter the deformed length, L, in pixels (px): \"))\n",
    "L  = round(L_px*pixel_to_mm,3) \n",
    "\n",
    "W_px = float(input(\"Enter the deformed width, W, in pixels (px): \"))\n",
    "W  = round(W_px*pixel_to_mm,3) \n",
    "epsilon_axial      = round((L-L0)/L0,3)\n",
    "epsilon_transverse = round((W-W0)/W0,3)\n",
    "poisson_ratio = -epsilon_transverse/epsilon_axial\n",
    "\n",
    "force.append(F)\n",
    "stress.append(sigma)\n",
    "strain_axial.append(epsilon_axial)\n",
    "strain_transverse.append(epsilon_transverse)\n",
    "poisson.append(poisson_ratio)"
   ]
  },
  {
   "cell_type": "code",
   "execution_count": null,
   "metadata": {},
   "outputs": [],
   "source": [
    "dataRubber = {'Force (N)': force, 'Stress (MPa)': stress, 'Strain (unitless)': strain_axial, 'Poisson Ratio': poisson}\n",
    "dataTableRubber = pd.DataFrame(dataRubber)\n",
    "dataTableRubber"
   ]
  },
  {
   "cell_type": "code",
   "execution_count": null,
   "metadata": {},
   "outputs": [],
   "source": [
    "# let's plot this data\n",
    "fig, (ax1,ax2) = plt.subplots(1,2,figsize=(9,4)) # 1 row, 2 columns\n",
    "dataTableRubber.plot.scatter('Strain (unitless)','Stress (MPa)',s=100,ax=ax1)\n",
    "ax1.set_xlabel('Strain')\n",
    "ax1.set_ylabel('Stress (MPa)')\n",
    "\n",
    "dataTableRubber.plot.scatter('Force (N)','Poisson Ratio',s=100,ax=ax2)\n",
    "ax2.set_xlabel('Force (N)')\n",
    "ax2.set_ylabel('Poisson Ratio')\n",
    "plt.show()"
   ]
  },
  {
   "cell_type": "markdown",
   "metadata": {},
   "source": [
    "### Discussion of your Data\n",
    "\n",
    "<b>Before we attempt to determine the material properties of your rubber band, let's have a critical look at the data you collected. Please answer the following questions.</b>\n",
    "\n",
    "<b>(1.) Does your data look <i>linear</i> over the entire range you collected?:</b>\n",
    "\n",
    "...enter your answer here...\n",
    "\n",
    "<b>(2.) Do you think the masses you've used to apply forces correspond to \"small strains\" for this material?:</b>\n",
    "\n",
    "...enter your answer here...\n",
    "\n",
    "<b>(3.) The accuracy of your measurement of $E$ will depend on how many data points you have in the small strain regime. What masses would you choose to use to get more data in the linear, elastic regime of this material?:</b>\n",
    "\n",
    "...enter your answer here...\n",
    "\n",
    "<b>(4.) In the linear, elastic region, the material's Poisson's ratio should be constant as large forces are applied. Is it?:</b>\n",
    "\n",
    "...enter your answer here...\n",
    "\n",
    "<b>(5.) What sources of error are present with your measurements, and how would you reduce the error using the materials/tools you currently have?:</b>\n",
    "\n",
    "...enter your answer here...\n"
   ]
  },
  {
   "cell_type": "code",
   "execution_count": null,
   "metadata": {},
   "outputs": [],
   "source": [
    "# finding E and nu \n",
    "ep = np.array(dataTableRubber['Strain (unitless)'])\n",
    "sig = np.array(dataTableRubber['Stress (MPa)'])\n",
    "fit = np.linalg.lstsq(ep.reshape(-1,1), sig)[0][0] #round?\n",
    "nu = sum(poisson) / len(poisson) \n",
    "print('Youngs Modulus is', fit, 'MPa')\n",
    "print('Poissons Ratio is', nu)"
   ]
  },
  {
   "cell_type": "markdown",
   "metadata": {},
   "source": [
    "### Discussion of your Analysis\n",
    "\n",
    "<b>(6.) Does your measurement of Young's modulus seem reasonable, why or why not?:</b>\n",
    "\n",
    "...enter your answer here...\n",
    "\n",
    "<b>(7.) Does your measurement of Poisson's ratio seem reasonable, why or why not?:</b>\n",
    "\n",
    "...enter your answer here...\n",
    "\n",
    "<b>(8.) If you believe your measurements of $E$ and $\\nu$ are reasonable, what do you expect the shear modulus to be?:</b>\n",
    "\n",
    "...enter your answer here...\n"
   ]
  },
  {
   "cell_type": "markdown",
   "metadata": {},
   "source": [
    "<a id='mass'></a>\n",
    "## Appendix A: Masses of Various Objects"
   ]
  },
  {
   "cell_type": "markdown",
   "metadata": {},
   "source": [
    "| Object | Mass (g) | Diameter (mm) | Height (mm) |\n",
    "| --- | --- | --- | --- |\n",
    "| Dime | 2 | 17.9 | 1.35 |\n",
    "| Penny | 3 | 19.1 | 1.52 |\n",
    "| Nickel | 5 | 21.2 | 1.95 |\n",
    "| Quarter | 5.6 | 24.3 | 1.75 |\n",
    "| AAA Battery | 11 | 10.5 | 44.5 |\n",
    "| AA Battery | 24 | 14.5 | 50.5 |\n",
    "| 9V Battery | 45 | n/a  | 48.5  |\n",
    "| C Battery | 67 | 26.2 | 50.0 |\n",
    "| D Battery | 136 | 34.2 | 61.5 |"
   ]
  },
  {
   "cell_type": "markdown",
   "metadata": {},
   "source": [
    "<a id='tips'></a>\n",
    "## Appendix B: Practical Tips\n",
    "\n",
    "<ol>\n",
    "       <li>Hang your rubber band vertically, so that $F = mg$, where $g = 9.81 m/s^2$, and $m$ is the mass of the object(s).</li>\n",
    "    <li>Try to keep your camera angle as consistent as you can (avoid tilting as much as possible), and try to keep the band at the same inclination for all photos -- ideally, it hangs straight down, though this is easier said than done.</li>\n",
    "    <li>Aim for the rubber band to fill most of the frame. In other words, take your photos from close up (or crop them before importing).</li>\n",
    "    <li>Never work with pixels, <b>always convert your measurements to a unit of physical length</b>, <i>e.g.</i> mm.</li>\n",
    "    <ol>\n",
    "        <li><b>Tip</b>: Put something that you know the physical size of in the photograph.  Then, you can measure the length of that known object in pixels, and convert to a phyiscal unit of measure. Dimensions of various common objects are listed in [Appendix A](#mass).</li>\n",
    "        <li>The conversion from pixels to mm might change from picture to picture because your camera might not be the same distance from the sample each time.</li>\n",
    "    </ol>\n",
    "    <li>Don't use a known volume of water as your mass. You will almost certainly spill this water everywhere.</li>\n",
    "    <li>Take measurements of strain using least 5 to 7 different masses. Remember: Hooke's law is valid for <b>small strains</b>, so take more of your measurements with small increments of applied force.</li>\n",
    "    <li>The moduli of most rubbers are between $0.1 \\leq E \\leq 10$ MPa, and the Poisson's ratio are typically very close to $\\nu \\approx 0.5$. If your values are very different from these quantities, you have probably done something wrong.</li>       \n",
    "</ol>"
   ]
  },
  {
   "cell_type": "code",
   "execution_count": null,
   "metadata": {},
   "outputs": [],
   "source": []
  }
 ],
 "metadata": {
  "kernelspec": {
   "display_name": "Python 3",
   "language": "python",
   "name": "python3"
  },
  "language_info": {
   "codemirror_mode": {
    "name": "ipython",
    "version": 3
   },
   "file_extension": ".py",
   "mimetype": "text/x-python",
   "name": "python",
   "nbconvert_exporter": "python",
   "pygments_lexer": "ipython3",
   "version": "3.7.3"
  }
 },
 "nbformat": 4,
 "nbformat_minor": 4
}
