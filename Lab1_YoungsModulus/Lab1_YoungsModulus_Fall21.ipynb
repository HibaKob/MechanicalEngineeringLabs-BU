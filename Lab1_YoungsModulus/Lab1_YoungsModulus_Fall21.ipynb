{
  "nbformat": 4,
  "nbformat_minor": 0,
  "metadata": {
    "kernelspec": {
      "display_name": "Python 3",
      "language": "python",
      "name": "python3"
    },
    "language_info": {
      "codemirror_mode": {
        "name": "ipython",
        "version": 3
      },
      "file_extension": ".py",
      "mimetype": "text/x-python",
      "name": "python",
      "nbconvert_exporter": "python",
      "pygments_lexer": "ipython3",
      "version": "3.7.3"
    },
    "colab": {
      "name": "Lab1_YoungsModulus_Fall21.ipynb",
      "provenance": [],
      "collapsed_sections": []
    }
  },
  "cells": [
    {
      "cell_type": "markdown",
      "metadata": {
        "id": "1hKKvA0C8uVq"
      },
      "source": [
        "# Lab 1: Modulus of a Rubber Band"
      ]
    },
    {
      "cell_type": "markdown",
      "metadata": {
        "id": "EFNswfWMHjas"
      },
      "source": [
        "## Introduction"
      ]
    },
    {
      "cell_type": "markdown",
      "metadata": {
        "id": "PTTXuVbl8uVr"
      },
      "source": [
        "Perhaps the most fundamental property of a material is: how does it behave when you push or pull on it? Is it stiff like diamond or soft like Jello? The relationship between <b>forces</b> and <b>deformation</b> is fundamental to the study of materials science, engineering mechanics, biomechanics, and physics, and yet when presented with a new material, we are unable to predict this property from theory - <b>we need to measure it experimentally</b>. \n",
        "\n",
        "What is remarkable, is that when the relationship between force and deformation was measured for different materials, a common trend emerged. The [polymath](https://en.wikipedia.org/wiki/Polymath) [Robert Hooke](https://en.wikipedia.org/wiki/Robert_Hooke) was the first to state the law that relates force to deformation (stretching/compression) in 1678, in which he wrote:\n",
        "<blockquote>\n",
        "    <i>ut tensio, sic vis</i> (\"as the extension, so the force\")\n",
        "</blockquote>    \n",
        "In other words, the force required to stretch a spring is proportional to the amount it is stretched: the relationship between force and deformation is <b>linear</b> (as long as the material isn't stretched too much). This law is first encountered for springs, in which we write\n",
        "\\begin{equation}\n",
        "F = k x,\n",
        "\\label{hooke} \\tag{1}\n",
        "\\end{equation}\n",
        "where F is the force acting to extend/compress the spring, x is the amount of extension, and k is the spring stiffness. \n",
        "\n",
        "In the study of the <i>mechanics of materials</i>, we generalize equation (1) to a similar equation that relates <b>stress</b> to <b>strain</b>. Why? Well, the spring stiffness $k$ depends on both materials <b>and</b> geometry - using equation (1), a thick piece of rubber will have a larger stiffness than a thin piece of rubber, so how do we isolate the <b>material properties</b> of the rubber? The answer is to correct for changes in geometry by measuring an average stress ($\\sigma_{\\text{avg}}=F/A$, <i>i.e.</i> force divided by cross sectional area) and the average strain ($\\epsilon_{\\text{avg}} = \\delta/L_0$, <i>i.e.</i> extension or compression divided by the original length), \n",
        "\\begin{equation}\n",
        "\\sigma_{\\text{avg}} = E \\epsilon_{\\text{avg}},\n",
        "\\label{hookeSS} \\tag{2}\n",
        "\\end{equation}\n",
        "where the term that measures the proportionality between stress and strain is $E$, [Young's Elastic Modulus](https://en.wikipedia.org/wiki/Young%27s_modulus). \n",
        "\n",
        "Elastic materials that are <b>homogenous</b> (its properties do not depend on <i>position</i>) and <b>isotropic</b> (its properties do not depend on <i>direction</i>) can be described by three material propertes: Young's modulus $E$, shear modulus $G$, and Poisson's ratio $\\nu$. Young's modulus measures a material's resistance to being stretched or compresses (how hard is it to deform a rectangular shaped material into a bigger/smaller rectangle?). The shear modulus measures a materials resistance to being distorted (how hard is it to distort a rectangular shaped material into a [parallelepiped](https://en.wikipedia.org/wiki/Parallelepiped)?). [Poisson's ratio](https://en.wikipedia.org/wiki/Poisson%27s_ratio) measures how much a material contracts or expands in directions perpendicular to the direction of applied extension or compression. While there are three properties that characterize a homogenous, only two are independent - <i>i.e.</i> if you measure two, you can calculate the third. For instance, the shear modulus can be calculated once you know $E$ and $\\nu$ by\n",
        "\\begin{equation}\n",
        "G = \\frac{E}{2(1+\\nu)}.\n",
        "\\tag{3}\n",
        "\\end{equation}\n",
        "\n",
        "In this lab, we will learn how to measure E and $\\nu$, and we will use equation (3) to calculate G."
      ]
    },
    {
      "cell_type": "markdown",
      "metadata": {
        "id": "uC5XLGI68uVr"
      },
      "source": [
        "\n",
        "## Prelab: Measuring Strain via Image Processing"
      ]
    },
    {
      "cell_type": "markdown",
      "metadata": {
        "id": "rlQnfq3l8uVs"
      },
      "source": [
        "To determine Young's elastic modulus for a material, we would like to apply a force that stretches it in one direction, and measure the corresponding strain. For Hooke's law to be relevant, those strains need to be very small. How small? This can vary from material to material, but typically less than $1\\%$. Recall that the average strain is a measure of how much a material stretches/compresses relative to its original length, <i>i.e.</i>\n",
        "\\begin{equation}\n",
        "\\epsilon_{\\text{avg}} = \\frac{L-L_0}{L_0} = \\frac{\\delta}{L_0}, \n",
        "\\end{equation}\n",
        "where $\\delta = L-L_0$ is displacement, or difference between the deformed length $L$ and the initial length $L_0$. \n",
        "\n",
        "In the lab or in the field, strain can be measured a variety of ways. For traditional engineering materials - steel, aluminum, concrete, wood - the amount of displacement that corresponds to \"small strains\" can be incredibly small, and may require an [extensometer](https://en.wikipedia.org/wiki/Extensometer) to measure the displacement of material points. A technique that can measure strain at many points on surface simultaneously is called [Digital Image Correlation (DIC)](https://en.wikipedia.org/wiki/Digital_image_correlation_and_tracking), which involves comparing images to measure how much material points moved in response to an applied load. The simplest form of DIC can be done by hand with only a camera and a computer. \n",
        "\n",
        "Before we attempt this analysis with a real experiments, we will practice measuring strain using image processing of a photograph from Wikipedia's entry on Hooke's law.\n",
        "\n",
        "First, we need to load in the Python libraries we need. Click SHIFT+ENTER to evaluate the cell below:"
      ]
    },
    {
      "cell_type": "code",
      "metadata": {
        "id": "2rI5H-A38uVs"
      },
      "source": [
        "!pip install mpld3 # you won't automatically have this \n",
        "# library for interactive plotting, so you have to install it\n",
        "import matplotlib.pyplot as plt   # for plotting\n",
        "import numpy as np                # for arrays\n",
        "np.warnings.filterwarnings('ignore') \n",
        "import pandas as pd               # for data/tables\n",
        "from skimage import io            # working with images\n",
        "from IPython.display import Image,display # images in colab\n",
        "import mpld3                      # interacting with images\n",
        "from mpld3 import plugins         # getting pixel data from images\n",
        "import os                         # navigating through files"
      ],
      "execution_count": null,
      "outputs": []
    },
    {
      "cell_type": "markdown",
      "metadata": {
        "id": "OhG3odWl8uVv"
      },
      "source": [
        "Next, we will initialize two lists that we will use to store force data and displacement data. At rest, we expect there to be zero displacement when zero force is applied."
      ]
    },
    {
      "cell_type": "code",
      "metadata": {
        "id": "BiJas35G8uVw"
      },
      "source": [
        "force = [0]\n",
        "displacement = [0]"
      ],
      "execution_count": null,
      "outputs": []
    },
    {
      "cell_type": "markdown",
      "metadata": {
        "id": "Yo5H1JyC8uVz"
      },
      "source": [
        "The next cell will load an image from Wikipedia by using: \n",
        "````\n",
        "io.imread('URL or File Location')\n",
        "````\n",
        "then it will show the image. In the bottom right corner, we will see the (x,y) location of any pixel that we hover the cursor over.\n",
        "\n",
        "### Procedure:\n",
        "<ol>\n",
        "    <li>Grab a pen and paper to take notes.</li>\n",
        "    <li>Run the cell below this one.</li>\n",
        "    <li><b>Measure the initial spring length</b></li>\n",
        "        <ol>\n",
        "            <li> Zoom to the top of the spring (using the magnifying glass in the bottom corner of the image to draw a window), and record the pixel value of the y coordinate using the tick marks on the axis.</li>  \n",
        "            <li> Zoom to the bottom of the spring (using the magnifying glass in the bottom corner of the image to draw a window), and record the pixel value of the y coordinate using the tick marks on the axis.</li>\n",
        "        </ol>    \n",
        "    <li><b>Measure the spring length spring with 1 mass attached (F=1)</b></li>\n",
        "        <ol>\n",
        "            <li> Zoom to the top of the spring (using the magnifying glass in the bottom corner of the image to draw a window), and record the pixel value of the y coordinate using the tick marks on the axis.</li>\n",
        "            <li> Zoom to the bottom of the spring (using the magnifying glass in the bottom corner of the image to draw a window), and record the pixel value of the y coordinate using the tick marks on the axis.</li>\n",
        "        </ol>    \n",
        "    <li><b>Measure the spring length spring with 2 masses attached (F=2)</b></li>\n",
        "        <ol>\n",
        "            <li> Zoom to the top of the spring (using the magnifying glass in the bottom corner of the image to draw a window), and record the pixel value of the y coordinate using the tick marks on the axis.</li>\n",
        "            <li>Zoom to the bottom of the spring (using the magnifying glass in the bottom corner of the image to draw a window), and record the pixel value of the y coordinate using the tick marks on the axis.</li>\n",
        "        </ol>\n",
        "</ol>\n",
        "\n"
      ]
    },
    {
      "cell_type": "code",
      "metadata": {
        "id": "APQ_3MKk8uV0"
      },
      "source": [
        "link = 'https://upload.wikimedia.org/wikipedia/commons/thumb/f/fc/Hookes-law-springs.png/1200px-Hookes-law-springs.png'\n",
        "img = plt.imread(link)\n",
        "\n",
        "fig, ax = plt.subplots(figsize = (8,8))\n",
        "im=ax.imshow(img)\n",
        "mpld3.display()"
      ],
      "execution_count": null,
      "outputs": []
    },
    {
      "cell_type": "markdown",
      "metadata": {
        "id": "CDIGadz88uV4"
      },
      "source": [
        "Calculate the initial length of the spring in units of pixels:"
      ]
    },
    {
      "cell_type": "code",
      "metadata": {
        "id": "XmrsGWF28uV4"
      },
      "source": [
        "yi1 = float(input(\"Enter the y value of the upper point, with no force applied (px): \"))\n",
        "yi2 = float(input(\"Enter the y value of the lower point, with no force applied (px): \"))\n",
        "L0 = round(abs(yi2-yi1),3) # this length must be positive\n",
        "print(\"Initial length L0 =\", L0, \"pixels\")"
      ],
      "execution_count": null,
      "outputs": []
    },
    {
      "cell_type": "markdown",
      "metadata": {
        "id": "JZbkf3e_8uV6"
      },
      "source": [
        "Calculate the deformed length of the spring. Let's use fictious values of the applied force, such that F=1 for one mass is hanging on the spring, and F=2 for two masses. Use the code below to enter those values - it will prompt you for your measurments, then calculate $x$ and store the force and displacement in our lists. "
      ]
    },
    {
      "cell_type": "code",
      "metadata": {
        "id": "9HYAaWx48uV7"
      },
      "source": [
        "# We reinitialize the force and displacement lists in case we have to rerun\n",
        "force = [0]\n",
        "displacement = [0]\n",
        "\n",
        "# For one mass enter the following values: \n",
        "F1  = float(input(\"Enter the applied force (# of Masses): \"))\n",
        "y1 = float(input(\"Enter the y value of the upper point (px): \"))\n",
        "y2 = float(input(\"Enter the y value of the lower point (px): \"))\n",
        "L  = round(abs(y2-y1),3) # this experiment only involves tension\n",
        "x = round(L-L0,3)\n",
        "force.append(F1)\n",
        "displacement.append(x)\n",
        "\n",
        "# For two masses enter the following values: \n",
        "F2  = float(input(\"Enter the applied force (# of Masses): \"))\n",
        "y1 = float(input(\"Enter the y value of the upper point (px): \"))\n",
        "y2 = float(input(\"Enter the y value of the lower point (px): \"))\n",
        "L  = round(abs(y2-y1),3) # this experiment only involves tension\n",
        "x = round(L-L0,3)\n",
        "force.append(F2)\n",
        "displacement.append(x)\n",
        "\n",
        "print(\"force =\", force, \"Masses\")\n",
        "\n",
        "print(\"displacement =\", displacement, \"pixels\")"
      ],
      "execution_count": null,
      "outputs": []
    },
    {
      "cell_type": "markdown",
      "metadata": {
        "id": "FiExCFCU8uV9"
      },
      "source": [
        "Now, let's calculate the spring stiffness of the Wikipedia spring. In linear elasticity, we make the assumption that the [constitutive relationship](https://en.wikipedia.org/wiki/Constitutive_equation) between force and displacement, or stress and strain is <b>linear</b>. Therefore, if we fit our force vs. displacement data to a linear curve, the slope of the curve will be the stiffness $k$. We will use [linear regression](https://en.wikipedia.org/wiki/Linear_regression) to fit our data. The way simplest linear regression in python is by calling:\n",
        "````\n",
        "np.polyfit(displacement, force, 1)\n",
        "````\n",
        "and storing the result of that call as a variable. This will give us the best linear fit to our data in the form of $y = mx+b$. The result from Python will be a list with two numbers: [slope intercept]."
      ]
    },
    {
      "cell_type": "code",
      "metadata": {
        "scrolled": true,
        "id": "fC1NvHcS8uV9"
      },
      "source": [
        "# first convert displacement and force from lists to a numpy array\n",
        "d = np.array(displacement)\n",
        "f = np.array(force)\n",
        "model_general = np.polyfit(displacement, force, 1) # the 1 is for linear, or 1st order polynomial\n",
        "print('F =', np.poly1d(model_general))"
      ],
      "execution_count": null,
      "outputs": []
    },
    {
      "cell_type": "markdown",
      "metadata": {
        "id": "HIbAC5Rw8uWA"
      },
      "source": [
        "What's the problem with this result? Well, Hooke's law states that F = kx, not F=kx+b. Physically, this means there should be zero displacement when there is zero force applied, and vice versa, <i>i.e.</i> b=0. In order to force the intercept to be equal to zero, we will use a least squares regression from the linear algebra class within numpy:\n",
        "````\n",
        "np.linalg.lstsq(d.reshape(-1,1), force)[0][0]\n",
        "````\n",
        "The result from Python will be the slope, <i>i.e.</i> the stiffness $k$."
      ]
    },
    {
      "cell_type": "code",
      "metadata": {
        "id": "HmeilJGr8uWA"
      },
      "source": [
        "model_fixIntercept = np.linalg.lstsq(d.reshape(-1,1), force)[0][0]\n",
        "print('F =', round(model_fixIntercept,6), 'x')"
      ],
      "execution_count": null,
      "outputs": []
    },
    {
      "cell_type": "code",
      "metadata": {
        "id": "GWzHrAI68uWC"
      },
      "source": [
        "# make a range of x\n",
        "disp_model = range(0, 350)\n",
        "# calculate the force from our linear model\n",
        "force_model = model_fixIntercept*disp_model\n",
        "\n",
        "plt.scatter(displacement, force)\n",
        "plt.plot(disp_model, force_model, c = 'r')\n",
        "plt.xlabel(\"Displacement (pixels)\")\n",
        "plt.ylabel(\"Force (# of Masses)\")\n",
        "plt.show()"
      ],
      "execution_count": null,
      "outputs": []
    },
    {
      "cell_type": "code",
      "metadata": {
        "id": "W5U9l2nV8uWF"
      },
      "source": [
        "k = round(model_fixIntercept, 5)\n",
        "print(\"Spring Stiffness =\", k, \"force/pixel\") "
      ],
      "execution_count": null,
      "outputs": []
    },
    {
      "cell_type": "markdown",
      "metadata": {
        "id": "cWBehH8d8uWG"
      },
      "source": [
        "## Measuring Young's Modulus of a Rubber Band\n",
        "\n",
        "Since in the prelab we learned how to measure <b>strain</b> from a photograph, we can measure the elastic modulus of various materials by applying known forces to them. We can use common household materials to apply different forces. Any combination of the various objects listed in [Appendix A](#mass) will enable you to apply a range of forces. \n",
        "\n",
        "Your task for this lab is to <b>measure</b> the elastic modulus E and Poisson ratio $\\nu$ and use equation (3) to <b>calculate</b> the shear modulus G of a rubber band.\n",
        "\n",
        "In order to measure E and $\\nu$ of a material, we need to measure the following things: \n",
        "- The object's initial length $L_0$, and initial cross sectional area $A_0$. For this lab, we will be studying rubber bands, which typically have a rectangular cross section, therefore we will need the width $W_0$ and thickness $h_0$ to calculate $A_0=W_0 h_0$. \n",
        "- The deformed length $L$ and width $W$ for each force $F$ we apply.\n",
        "\n",
        "Typically, $L_0$ is <b>not</b> the total length of the object/specimen. Instead, we mark two points on the object far away from the edges, and measure how the distance between these points changes. Why? Well, for this measurement to be accurate, we need the stress to be uniform across the entire cross section of the material. According to <a href=\"https://en.wikipedia.org/wiki/Saint-Venant%27s_principle\">St. Venant's Principle</a>, this typically occurs far away from where the load is applied.\n",
        "\n",
        "With this, we can calculate the axial strain as $\\epsilon_{\\text{axial}}=(L-L_0)/L_0$,\n",
        "\n",
        "and the transverse strain as $\\epsilon_{\\text{transverse}}=(W-W_0)/W_0$. \n",
        "\n",
        "Then, we can calculate Poisson's ratio with: $\\nu=-\\epsilon_{\\text{transverse}}/\\epsilon_{\\text{axial}}$.\n",
        "\n",
        "Dividing F by the initial cross sectional area A0 gives a measure of the \"<a href=\"https://en.wikipedia.org/wiki/Stress%E2%80%93strain_curve#Engineering_stress_and_strain\">engineering stress</a>\" or \"nominal stress\", $\\sigma$. A plot of stress vs. axial strain will allow us to calculate E using a linear regression."
      ]
    },
    {
      "cell_type": "markdown",
      "metadata": {
        "id": "l7EzL12a8uWH"
      },
      "source": [
        "## Experiments\n",
        "\n",
        "You will need to take 7-9 photos in total: 2 photos of the initial, unloaded rubber band (one front and one side view), and 5-7 photos of the rubber band with different weights (front view only). See: [Appendix B](#tips) for photo tips. Note that you may need to decrease the size and/or resolution for the photos to upload -- this makes it even more important that the subject takes up as much of the frame as possible!\n",
        "\n",
        "Save them to the correct subfolder of your shared Google drive with descriptive names (e.g. \"initial.jpg\", \"initial_side.jpg\", etc.) "
      ]
    },
    {
      "cell_type": "markdown",
      "metadata": {
        "id": "mw3xbnLM8uWI"
      },
      "source": [
        "### Warm-up Experiments\n",
        "\n",
        "Here's an example showing images of a rubber band in its initial state (left) and deformed state (right). I have labeled $L_0$, $L$, $W_0$, and $W$. (Note: I did not include a side image which is necessary to measure $h_0$.) In the deformed image, the rubber band is loaded with a C battery. According to [Appendix A](#mass) has a mass of $m=67$ g, which corresponds to a force of $F = 0.66$ N. You may use the reference masses in [Appendix A](#mass) or any mass as long as you weigh it. \n",
        "\n",
        "<b> Question: </b>  What are the considerations in choosing   $L_0$?  i.e.  Would we like it as small as possible?  As large as possible?  What do you mean by \"as possible\"?  In between?  Does it matter?  Explain your reasoning. \n",
        "\n",
        "...enter your answer here...\n",
        "\n",
        "In each image, I have included an object with a known physical dimension - in this case, a AA battery whose length is $L_b = 50.5$ mm (see: [Appendix A](#mass)). This is important, as it allows us to convert our measurements from pixels to mm (see: [Appendix B](#tips)). \n",
        "\n",
        "<div>\n",
        "<img src=\"https://www.bu.edu/moss/files/2020/05/rubberBand.jpg\" width=\"550\" />\n",
        "</div>\n",
        "\n",
        "<u> MEASUREMENT TIPS </u>:\n",
        "\n",
        "Use the zoom feature in mpld3. To the bottom left of your image, click the magnifying glass. You can select a zoom area and/or use your scroll pad or scroll wheel on a mouse to zoom in and out. \n",
        "\n",
        "**NOTE**, though, that once you zoom in this way you need to refer to the pixel values indicated by the outer axes, which adjust as you zoom  -- the (x,y) values at the bottom right of the image refer to values on the coordinate plane.\n",
        "\n",
        "1. Zoom in as much as possible to measure your reference object. If your object is tilted, you might want to use the distance formula $d = \\sqrt{(x_2-x_1)^2 + (y_2-y_1)^2}$. \n",
        "2. Zoom out, then zoom in as much as possible to get the y-position of the centerline of the beam at its clamped end. \n",
        "3. Do the same for the other end of the beam that is conected to the mass. As long as the beam in the image is perfectly vertical, the y-distance between these points will be the elongation of the beam.\n",
        "\n",
        "<b> Question: </b>  This all sounds easy, but Wait!?  How wide is the top binder clip?  Measure the width of the binder clip using both its front edge and also its back edge.  "
      ]
    },
    {
      "cell_type": "code",
      "metadata": {
        "id": "teImnFbLqern"
      },
      "source": [
        "from google.colab import drive\n",
        "drive.mount('/content/drive')"
      ],
      "execution_count": null,
      "outputs": []
    },
    {
      "cell_type": "code",
      "metadata": {
        "id": "pk-kZagQcAZn"
      },
      "source": [
        "# path = '/content/drive/My Drive/ME305_Fall2020/LabsDocuments/Lab1/RubberbandExPhoto_DPH.jpg'\n",
        "path = '/content/drive/Shared drives/shared_test/Lab1_YoungsModulus/RubberbandExPhoto_DPH.jpg'\n",
        "\n",
        "img = io.imread(path)\n",
        "\n",
        "fig, ax = plt.subplots(figsize=(8,10))\n",
        "ax.imshow(img)\n",
        "plugins.connect(fig, plugins.MousePosition(fontsize=14))\n",
        "mpld3.display()"
      ],
      "execution_count": null,
      "outputs": []
    },
    {
      "cell_type": "code",
      "metadata": {
        "id": "ixkaNnx-hxjL"
      },
      "source": [
        "# Enter measured values for the binder clip\n",
        "X_FrontEdge1  = float(input(\"Enter the x value of right side of front edge of the upper binder clips: \"))\n",
        "X_FrontEdge2 = float(input(\"Enter the x value of left side of front edge of the upper binder clips:\"))\n",
        "X_BackEdge1  = float(input(\"Enter the x value of right side of back edge of the upper binder clips: \"))\n",
        "X_BackEdge2 = float(input(\"Enter the x value of left side of back edge of the upper binder clips:\"))\n",
        "FrontEdgeWidth  = round(abs(X_FrontEdge2-X_FrontEdge1),3) \n",
        "BackEdgeWidth  = round(abs(X_BackEdge2-X_BackEdge1),3) \n",
        "\n",
        "\n",
        "print(\"FrontEdgeWidth\", FrontEdgeWidth, \"is not equal to BackEdgeWidth\", BackEdgeWidth)"
      ],
      "execution_count": null,
      "outputs": []
    },
    {
      "cell_type": "markdown",
      "metadata": {
        "id": "2F_kdUJzl5Wl"
      },
      "source": [
        "**Question:** Define *parallax* in your own words:\n",
        "\n",
        "...enter your answer here...\n",
        "\n",
        "To avoid this phenomenon, it is better to put your camera far from objects and use the zoom feautre to get a close up picture. That way you'll measure the relative sizes of objects that are approximately the same distance from the camera lens."
      ]
    },
    {
      "cell_type": "code",
      "metadata": {
        "id": "5BWVBlYv8uWI"
      },
      "source": [
        "force = [0]\n",
        "stress = [0]\n",
        "strain_axial = [0]\n",
        "strain_transverse = [0]\n",
        "poisson = [0]"
      ],
      "execution_count": null,
      "outputs": []
    },
    {
      "cell_type": "markdown",
      "metadata": {
        "id": "x0Z9wSRI8uWK"
      },
      "source": [
        "Start with the photo of your rubber band with no weight (**front view**). Locate it in the Files tab on the left side of your screen. Hover the mouse to the right (over the filename) until you see 3 dots. Click, and select \"Copy Path\". \n",
        "\n",
        "Now, run the next cell and paste (CTRL + V) the path when prompted.\n",
        "\n",
        "Remember that if you don't see a photo or you have runtime issues, you likley need to decrease the file size.\n",
        "\n",
        "<p>&nbsp;</p>\n",
        "\n",
        "Aside: If you run this code later in a Jupyter Notebook via Anaconda, you'll type the file path (no quotes) when prompted, which probably looks like:\n",
        "\n",
        "````\n",
        "/Users/yourname/Desktop/yourimage.jpg\n",
        "````\n",
        "\n",
        "Note, you don't need quotes here.\n",
        "\n"
      ]
    },
    {
      "cell_type": "code",
      "metadata": {
        "scrolled": false,
        "id": "Cz-zMTEl8uWL"
      },
      "source": [
        "path = str(input(\"Paste or type your file path: \"))\n",
        "im = io.imread(path)\n",
        "\n",
        "fig, ax = plt.subplots(figsize=(7,7))\n",
        "ax.imshow(im)\n",
        "plugins.connect(fig, plugins.MousePosition(fontsize=14))\n",
        "mpld3.display()"
      ],
      "execution_count": null,
      "outputs": []
    },
    {
      "cell_type": "markdown",
      "metadata": {
        "id": "V1xdkWMJ8uWN"
      },
      "source": [
        "The next few cells will prompt you to take a few measurements in pixels (and will store these values as variables). "
      ]
    },
    {
      "cell_type": "code",
      "metadata": {
        "id": "x96txhNs8uWN"
      },
      "source": [
        "# measure the length of the object in pixels\n",
        "actualLength = float(input(\"Enter the physical length of the reference object in your image (mm): \"))\n",
        "pixelLength  = float(input(\"Enter the length of that object in pixels (px): \"))\n",
        "pixel_to_mm = actualLength/pixelLength\n",
        "print('The conversion of pixels to mm is', pixel_to_mm, 'mm/px for this image.')"
      ],
      "execution_count": null,
      "outputs": []
    },
    {
      "cell_type": "code",
      "metadata": {
        "id": "fw2E_y-68uWP"
      },
      "source": [
        "# Measure L_0\n",
        "L0_px = float(input(\"Enter the initial length, L0, in pixels (px): \"))\n",
        "L0  = round(L0_px*pixel_to_mm,3) \n",
        "print('The initial length is', L0, 'mm')"
      ],
      "execution_count": null,
      "outputs": []
    },
    {
      "cell_type": "code",
      "metadata": {
        "id": "hBUD4s4l8uWS"
      },
      "source": [
        "# Measure W_0\n",
        "W0_px = float(input(\"Enter the initial width, W0, in pixels (px): \"))\n",
        "W0  = round(W0_px*pixel_to_mm,3) \n",
        "print('The initial width is', W0, 'mm')"
      ],
      "execution_count": null,
      "outputs": []
    },
    {
      "cell_type": "markdown",
      "metadata": {
        "id": "fp3nHYhD8uWU"
      },
      "source": [
        "Now retrieve the image of the **side-view** of the undeformed rubber band in the same way."
      ]
    },
    {
      "cell_type": "code",
      "metadata": {
        "scrolled": true,
        "id": "EB-WTsnZ8uWU"
      },
      "source": [
        "path = str(input(\"Paste or type your file path: \"))\n",
        "im = io.imread(path)\n",
        "\n",
        "fig, ax = plt.subplots(figsize=(7,7))\n",
        "ax.imshow(im)\n",
        "plugins.connect(fig, plugins.MousePosition(fontsize=14))\n",
        "mpld3.display()"
      ],
      "execution_count": null,
      "outputs": []
    },
    {
      "cell_type": "code",
      "metadata": {
        "id": "Mj0Tj8EF8uWX"
      },
      "source": [
        "# Measure h_0\n",
        "pixelLength  = float(input(\"Enter the length of the reference object in pixels (px): \"))\n",
        "pixel_to_mm = actualLength/pixelLength\n",
        "print('The conversion of pixels to mm is', pixel_to_mm, 'mm/px for this image.')\n",
        "h0_px = float(input(\"Enter the initial thickness, h0, in pixels (px): \"))\n",
        "h0  = round(h0_px*pixel_to_mm,3) \n",
        "A0  = W0*h0\n",
        "print('The initial thickness is', h0, 'mm', 'and the initial cross sectional area is', A0, 'mm^2')"
      ],
      "execution_count": null,
      "outputs": []
    },
    {
      "cell_type": "markdown",
      "metadata": {
        "id": "JvB7BvU58uWZ"
      },
      "source": [
        "### Deformed Dimensions of Rubber Band\n",
        "\n",
        "Proceed with the rest of your images. Repeat the next two cells for as many images as you have -- you'll load an image, then enter measurements when prompted which are appended to lists."
      ]
    },
    {
      "cell_type": "code",
      "metadata": {
        "id": "dTuEQpKJ8uWZ"
      },
      "source": [
        "# repeat this cell & the next one 5-7 times for all the images you have\n",
        "path = str(input(\"Paste or type your file path: \"))\n",
        "im = io.imread(path)\n",
        "\n",
        "fig, ax = plt.subplots(figsize=(7,7))\n",
        "ax.imshow(im)\n",
        "mpld3.display()"
      ],
      "execution_count": null,
      "outputs": []
    },
    {
      "cell_type": "code",
      "metadata": {
        "id": "iE-2aYXA8uWb"
      },
      "source": [
        "\n",
        "# repeat this cell 5-7 times for all the images you have\n",
        "pixelLength  = float(input(\"Enter the length of the reference object in pixels (px): \"))\n",
        "pixel_to_mm = actualLength/pixelLength\n",
        "print('The conversion of pixels to mm is', pixel_to_mm, 'mm/px for this image.')\n",
        "\n",
        "F  = float(input(\"Enter the applied force (N): \"))\n",
        "sigma = F/A0\n",
        "L_px = float(input(\"Enter the deformed length, L, in pixels (px): \"))\n",
        "L  = round(L_px*pixel_to_mm,3) \n",
        "\n",
        "W_px = float(input(\"Enter the deformed width, W, in pixels (px): \"))\n",
        "W  = round(W_px*pixel_to_mm,3) \n",
        "epsilon_axial      = round((L-L0)/L0,3)\n",
        "epsilon_transverse = round((W-W0)/W0,3)\n",
        "poisson_ratio = -epsilon_transverse/epsilon_axial\n",
        "\n",
        "force.append(F)\n",
        "stress.append(sigma)\n",
        "strain_axial.append(epsilon_axial)\n",
        "strain_transverse.append(epsilon_transverse)\n",
        "poisson.append(poisson_ratio)"
      ],
      "execution_count": null,
      "outputs": []
    },
    {
      "cell_type": "markdown",
      "metadata": {
        "id": "mCDVY2OfK-eV"
      },
      "source": [
        "If you want to completely restart the experiment and redo the previous steps, uncomment the code below and run it. This will clear the data you enter."
      ]
    },
    {
      "cell_type": "code",
      "metadata": {
        "id": "AmSCWVuFLIoT"
      },
      "source": [
        "# If you want to clear your data and restart the previous cell uncomment the code below\n",
        "#force.clear()\n",
        "#stress.clear()\n",
        "#strain_axial.clear()\n",
        "#strain_transverse.clear()\n",
        "#poisson.clear()"
      ],
      "execution_count": null,
      "outputs": []
    },
    {
      "cell_type": "markdown",
      "metadata": {
        "id": "wTDnlKFt8uWc"
      },
      "source": [
        "Now compile the data to a dataframe."
      ]
    },
    {
      "cell_type": "code",
      "metadata": {
        "id": "59R8u_fn8uWd"
      },
      "source": [
        "dataRubber = {'Force (N)': force, 'Stress (MPa)': stress, 'Strain (unitless)': strain_axial, 'Poisson Ratio': poisson}\n",
        "df = pd.DataFrame(dataRubber)\n",
        "df"
      ],
      "execution_count": null,
      "outputs": []
    },
    {
      "cell_type": "markdown",
      "metadata": {
        "id": "KT20KqJy8uWf"
      },
      "source": [
        "You can delete a row with the following command:\n",
        "````\n",
        "df = df.drop([ENTER_ROW_NUMBER_TO_DELETE])\n",
        "````\n",
        "Remember, Python starts counting from 0, not 1. Note that this saves the dataframe over itself (rather than making a new variable)."
      ]
    },
    {
      "cell_type": "markdown",
      "metadata": {
        "id": "2rQyKJhh8uWf"
      },
      "source": [
        "Optional but strongly recommended: Edit path for your desired output location, then uncomment the next block and run it to export the dataframe to a csv in your shared folder. "
      ]
    },
    {
      "cell_type": "code",
      "metadata": {
        "id": "2fohSHcb8uWf"
      },
      "source": [
        " #path = '/content/drive/MyDrive/ME 305/rubberbanddata.csv'\n",
        " #df.to_csv(path,index=False)"
      ],
      "execution_count": null,
      "outputs": []
    },
    {
      "cell_type": "markdown",
      "metadata": {
        "id": "vFZB6CAV8uWh"
      },
      "source": [
        "By saving to a csv, if you need to stop working and return to the lab (or Google Colab times out), you don't need to redo all your measurements. Edit path for your desired output location, then uncomment and run the line below:"
      ]
    },
    {
      "cell_type": "code",
      "metadata": {
        "id": "sn6ssk2K8uWh"
      },
      "source": [
        "#path = '/content/drive/MyDrive/ME 305/rubberbanddata.csv'\n",
        "#df2 = pd.read_csv(path)"
      ],
      "execution_count": null,
      "outputs": []
    },
    {
      "cell_type": "code",
      "metadata": {
        "id": "euxdA0Qj8uWn"
      },
      "source": [
        "# edit & uncomment if you need to delete a row of data\n",
        "# df = df.drop([1])"
      ],
      "execution_count": null,
      "outputs": []
    },
    {
      "cell_type": "markdown",
      "metadata": {
        "id": "C6pS3dSp8uWp"
      },
      "source": [
        "## Results\n",
        "\n",
        "Let's plot this data."
      ]
    },
    {
      "cell_type": "code",
      "metadata": {
        "id": "uIyhK6Qv8uWp"
      },
      "source": [
        "fig, (ax1,ax2) = plt.subplots(1,2,figsize=(9,4)) # 1 row, 2 columns\n",
        "df.plot.scatter('Strain (unitless)','Stress (MPa)',s=100,ax=ax1)\n",
        "ax1.set_xlabel('Strain')\n",
        "ax1.set_ylabel('Stress (MPa)')\n",
        "\n",
        "df.plot.scatter('Force (N)','Poisson Ratio',s=100,ax=ax2)\n",
        "ax2.set_xlabel('Force (N)')\n",
        "ax2.set_ylabel('Poisson Ratio')\n",
        "plt.show()"
      ],
      "execution_count": null,
      "outputs": []
    },
    {
      "cell_type": "markdown",
      "metadata": {
        "id": "rJam4-h_8uWr"
      },
      "source": [
        "### Discussion of your data\n",
        "\n",
        "<b>Before we attempt to determine the material properties of your rubber band, let's have a critical look at the data you collected. Please answer the following questions.</b>\n",
        "\n",
        "<b>(1.) Does your data look <i>linear</i> over the entire range you collected?</b>\n",
        "\n",
        "...enter your answer here...\n",
        "\n",
        "<b>(2.) Do you think the masses you've used to apply forces correspond to \"small strains\" for this material?</b>\n",
        "\n",
        "...enter your answer here...\n",
        "\n",
        "<b>(3.) The accuracy of your measurement of $E$ will depend on how many data points you have in the small strain regime. What masses would you choose to use to get more data in the linear, elastic regime of this material?</b>\n",
        "\n",
        "...enter your answer here...\n",
        "\n",
        "<b>(4.) In the linear, elastic region, the material's Poisson's ratio should be constant as large forces are applied. Is it?</b>\n",
        "\n",
        "...enter your answer here...\n",
        "\n",
        "<b>(5.) What sources of error are present with your measurements, and how would you reduce the error using the materials/tools you currently have?</b>\n",
        "\n",
        "...enter your answer here...\n"
      ]
    },
    {
      "cell_type": "markdown",
      "metadata": {
        "id": "EoWmtlQR8uWr"
      },
      "source": [
        "## Determining material properties"
      ]
    },
    {
      "cell_type": "code",
      "metadata": {
        "id": "hBJD7x_j8uWs"
      },
      "source": [
        "# finding E and nu \n",
        "ep = np.array(df['Strain (unitless)'])\n",
        "sig = np.array(df['Stress (MPa)'])\n",
        "fit = np.linalg.lstsq(ep.reshape(-1,1), sig)[0][0] \n",
        "nu = sum(poisson) / len(poisson) \n",
        "print('Youngs Modulus is', fit, 'MPa')\n",
        "print('Poissons Ratio is', nu)"
      ],
      "execution_count": null,
      "outputs": []
    },
    {
      "cell_type": "markdown",
      "metadata": {
        "id": "99h5e86n8uWt"
      },
      "source": [
        "### Discussion of your analysis\n",
        "\n",
        "<b>(6.) Does your measurement of Young's modulus seem reasonable, why or why not?</b>\n",
        "\n",
        "...enter your answer here...\n",
        "\n",
        "<b>(7.) Does your measurement of Poisson's ratio seem reasonable, why or why not?</b>\n",
        "\n",
        "...enter your answer here...\n",
        "\n",
        "<b>(8.) If you believe your measurements of $E$ and $\\nu$ are reasonable, what do you expect the shear modulus to be?</b>\n",
        "\n",
        "...enter your answer here...\n"
      ]
    },
    {
      "cell_type": "markdown",
      "metadata": {
        "id": "I8Hr8ayU8uWu"
      },
      "source": [
        "<a name='mass'></a>\n",
        "## Appendix A: Masses of Various Objects"
      ]
    },
    {
      "cell_type": "markdown",
      "metadata": {
        "id": "i-Wed3YA8uWu"
      },
      "source": [
        "| Object | Mass (g) | Diameter (mm) | Height (mm) |\n",
        "| --- | --- | --- | --- |\n",
        "| Dime | 2 | 17.9 | 1.35 |\n",
        "| Penny | 3 | 19.1 | 1.52 |\n",
        "| Nickel | 5 | 21.2 | 1.95 |\n",
        "| Quarter | 5.6 | 24.3 | 1.75 |\n",
        "| AAA Battery | 11 | 10.5 | 44.5 |\n",
        "| AA Battery | 24 | 14.5 | 50.5 |\n",
        "| 9V Battery | 45 | n/a  | 48.5  |\n",
        "| C Battery | 67 | 26.2 | 50.0 |\n",
        "| D Battery | 136 | 34.2 | 61.5 |"
      ]
    },
    {
      "cell_type": "markdown",
      "metadata": {
        "id": "ixt1P7ux8uWu"
      },
      "source": [
        "<a name='tips'></a>\n",
        "## Appendix B: Practical Tips\n",
        "\n",
        "\n",
        "1. Hang your rubber band vertically, so that F = mg, where $g = 9.81 m/s^2$, and m is the mass of the object(s).\n",
        "2. Try to keep your camera angle as consistent as you can (avoid tilting as much as possible), and try to keep the band at the same inclination for all photos -- ideally, it hangs straight down, though this is easier said than done.\n",
        "3. Aim for the rubber band to fill most of the frame. In other words, take your photos from close up (or crop them before importing).\n",
        "4. Never work with pixels, **always convert your measurements to a unit of physical length**, *e.g.*mm.\n",
        "   1. Tip: Put something that you know the physical size of in the photograph.  Then, you can measure the length of that known object in pixels, and convert to a phyiscal unit of measure. Dimensions of various common objects are listed in [Appendix A](#mass).\n",
        "  2. The conversion from pixels to mm might change from picture to picture because your camera might not be the same distance from the sample each time.\n",
        "\n",
        "5. Don't use a known volume of water as your mass. You will almost certainly spill this water everywhere.\n",
        "6. Take measurements of strain using least 5 to 7 different masses. Remember: Hooke's law is valid for **small strains**, so take more of your measurements with small increments of applied force.\n",
        "7. The moduli of most rubbers are between $0.1 \\leq E \\leq 10$ MPa, and the Poisson's ratio are typically very close to 0.5. If your values are very different from these quantities, you have probably done something wrong."
      ]
    }
  ]
}