{
 "cells": [
  {
   "cell_type": "markdown",
   "metadata": {},
   "source": [
    "# Lab 2: The Shape of a Bending Beam"
   ]
  },
  {
   "cell_type": "markdown",
   "metadata": {},
   "source": [
    "## Introduction \n",
    "What is the shape of a bent beam? This is perhaps one of the oldest and most important questions in all of mechanics. It attracted the attention of some of the greatest minds in mathematics, including Galileo, the Bernoullis, and Euler. It's shape is useful in the design of engineering structures, [shipbuilding](https://www.marineinsight.com/naval-architecture/ship-construction-plate-machining-assembly-hull-units-block-erection/), creating [flexible electronic devices](https://matmatch.com/blog/flexible-electronics-world/), modelling and [animating hair](https://disney-animation.s3.amazonaws.com/uploads/production/publication_asset/167/asset/moanaHair_abstract1.pdf) in Disney movies, describing the shape of a [meniscus and a fluid droplet](https://www.fmf.uni-lj.si/~podgornik/download/Analogies-drop-elastica.pdf), and in laying [transatlantic communication cables](https://www.mdpi.com/2077-1312/8/1/48/pdf), among countless other examples. For a detailed look at the history of elastica, the curious reader may enjoy [this article](https://www.levien.com/phd/elastica_hist.pdf).\n",
    "\n",
    "Remarkably, the shape of a thin strip of elastic material - an <i>elastica</i> in Latin - is given by same differential equation that describes a pendulum,\n",
    "\\begin{equation}\n",
    "\\frac{d^2\\theta(s)}{ds^2} + \\lambda \\sin[\\theta(s)] = 0,\n",
    "\\tag{1}\n",
    "\\end{equation}\n",
    "    where $s$ is the location along the <i>elastica</i>, $\\theta(s)$ is the angle or slope of the <i>elastica</i> at a given location $s$, that is $\\theta(s)=dw/ds$ where $w$ is the vertical deflection, and $\\lambda$ is the magnitude of applied force to the bending rigidity of the <i>elastica</i>. If we can solve equation (1) for $\\theta(s)$, we will know the shape of a bent bend under what load parameter $\\lambda$ that we apply. \n",
    "    \n",
    "However, equation (1) is very difficult to solve. It is difficult because it is <b>nonlinear</b>, and it is nonlinear because of the $\\sin[\\theta(s)]$ term. When the slopes of the beam are small, we know from the small angle approximation (or, more formally from a Taylor series expansion) that $\\sin[\\theta(s)]\\approx \\theta(s)$ <i>et voila</i> the equation is no longer nonlinear. We a little bit of work, we can manipulate this linear equation into the equation you are more familiar with, the equation of an elastic curve\n",
    "\\begin{equation}\n",
    "EI \\frac{d^4w}{dx^4}=q(x),\n",
    "\\tag{2}\n",
    "\\end{equation}\n",
    "where $EI$ is the bending or flexural rigidity, $E$ is Young's elastic modulus, $I$ is the [second moment of area](https://en.wikipedia.org/wiki/Second_moment_of_area), and $q(x)$ is the distributed load acting transverse or orthogonal to the beam's neutral axis - it has units of force per unit length. This is known as the [Euler-Bernoulli](https://en.wikipedia.org/wiki/Euler–Bernoulli_beam_theory) beam equation. Here, I have assumed that $E$ and $I$ do not change along the $x$ axis of the beam, otherwise equation (2) becomes a bit more complicated. You may be wondering why we're now taking derivatives with respect to $x$, which is the Cartesian coordinate running along the beam's neutral axis when the beam is <b>undeformed</b>, rather than $s$, which is a coordinate running along the neutral axis of the <b>deformed</b>, or bent, beam. The reason we can use the <b>undeformed</b> configuration, and thus take derivatives with respect to $x$, is because we assumed the <b>slope of the beam is small</b>, and this means that $s\\approx x$. Because this fourth-order [ordinary differential equation](https://en.wikipedia.org/wiki/Ordinary_differential_equation) is <b>linear</b> (remember, we are assuming the beam is bent, but not too much), it is straightforward to solve.\n",
    "\n",
    "[Cantilever beams](https://en.wikipedia.org/wiki/Cantilever), which are supported (e.g. clamped) at one end and free at the other -- think diving boards -- are especially important. They allow technology like atomic force microscopy [(AFM)](https://en.wikipedia.org/wiki/Atomic_force_microscopy) to work, and motivated the study of [elasticity](https://en.wikipedia.org/wiki/Elasticity_(physics). \n",
    "\n",
    "In this lab, we'll use Euler-Bernoulli beam theory and experiments to study the deformation of a cantilever under various concentrated loads."
   ]
  },
  {
   "cell_type": "code",
   "execution_count": null,
   "metadata": {},
   "outputs": [],
   "source": [
    "install_mpld3 = !pip install \"git+https://github.com/mpld3/mpld3\"\n",
    "import math         # sine, cosine, sqrt, etc.\n",
    "import numpy as np  # so we can work with matrices\n",
    "import pandas as pd               # for data/tables\n",
    "\n",
    "import matplotlib\n",
    "import matplotlib.pyplot as plt # plotting\n",
    "\n",
    "from skimage import io            # working with images\n",
    "from IPython.display import Image,display # images in colab\n",
    "import mpld3                      # interacting with images\n",
    "from mpld3 import plugins         # getting pixel data from images"
   ]
  },
  {
   "cell_type": "markdown",
   "metadata": {},
   "source": [
    "## Experiments\n",
    "\n",
    "1. Find a ruler or a similarly shaped object.\n",
    "\n",
    "2. Cantilever the beam, i.e. impose clamped-free boundary conditions. For example, you can place one end underneath heavy books, duct tape it to a table, etc. Let the other end hang freely.\n",
    "\n",
    " <u> Part 1: Fixed location of point load, varied load magnitude. </u>\n",
    "\n",
    "3. Measure and record $L$, the distance between your clamp and the end of the beam. \n",
    "\n",
    "4. Add mass to the end of the beam by hanging or resting weights. Record the mass.\n",
    "\n",
    "5. You need a reference object in the frame. This can be the same object as your mass or something like a thumb tack. Measure it and place it near the location of your mass.\n",
    "\n",
    "6. Take a photo ensuring that your camera view is at eye level with and perpendicular to the beam. \n",
    "\n",
    "7. Repeat steps 4 through 6 four to six times for different masses, for a total of 5-7 photos.\n",
    "\n",
    " <u> Part 2: Fixed load magnitude, varied location of point load.</u>\n",
    "\n",
    "8. Choose one of your mass values (record it) and move it from the end of the beam to some other spot along x. Record the new position.\n",
    "\n",
    "9. Take a photo.\n",
    "\n",
    "10. Repeat steps 8 through 9 three times for the same mass, so you have photos for a total of 5 positions (including at the end, $x=L$, from Part 1). \n",
    "\n",
    "11. Add all images (descriptively named) to your shared Google drive.\n",
    "\n",
    "<a href=\"https://ibb.co/vkchQJM\"><img src=\"https://i.ibb.co/CQw6MnS/cantilever-ex2.jpg\" alt=\"cantilever-ex2\" border=\"0\" /></a>\n",
    "\n",
    "Note that if your beam deflects more than the example image above, it's probably beyond the small slope approximation."
   ]
  },
  {
   "cell_type": "markdown",
   "metadata": {},
   "source": [
    "## Parameters and initializing lists\n",
    "\n",
    "Edit the next cell with the value of Young's Modulus E for your beam in Pascals (Google it and choose the best approximation you can find), the second moment of area I in meters$^4$ (calculate it), and the length from clamp to the end of the beam L in meters.\n"
   ]
  },
  {
   "cell_type": "code",
   "execution_count": null,
   "metadata": {},
   "outputs": [],
   "source": [
    "### Edit me\n",
    "E = # Pa\n",
    "I = # m^4\n",
    "L = # m"
   ]
  },
  {
   "cell_type": "markdown",
   "metadata": {},
   "source": [
    "Initialize lists where you'll record measurements (you don't need to edit this.) "
   ]
  },
  {
   "cell_type": "code",
   "execution_count": null,
   "metadata": {},
   "outputs": [],
   "source": [
    "pix_m_list = [0]\n",
    "P_list = [0]\n",
    "wL_list = [0] "
   ]
  },
  {
   "cell_type": "markdown",
   "metadata": {},
   "source": [
    "## Image Processing for Part 1\n",
    "\n",
    "Mount your shared Google Drive. Run & repeat the next two cells for all of your images from Part 1 of the experiments, where you varied the magnitude of the load. This will store your measurements in the lists we initialized above.\n",
    "\n",
    "<u> MEASUREMENT TIPS </u>:\n",
    "\n",
    "Use the zoom feature in mpld3. To the bottom left of your image, click the magnifying glass. You can select a zoom area and/or use your scroll pad or scroll wheel on a mouse to zoom in and out. \n",
    "\n",
    "**NOTE**, though, that once you zoom in this way you need to refer to the pixel values indicated by the outer axes, which adjust as you zoom  -- the (x,y) values at the bottom right of the image refer to values on the coordinate plane.\n",
    "\n",
    "1. Zoom in as much as possible to measure your reference object. If your object is tilted, you might want to use the distance formula $d = \\sqrt{(x_2-x_1)^2 + (y_2-y_1)^2}$. \n",
    "2. Zoom out, then zoom in as much as possible to get the point y(x=0), i.e. the y-position of the centerline of the beam at its clamped end. \n",
    "3. Do the same for y(x=L). As long as your image is perfectly horizontal, the y-distance between these points is w(x=L), the y-deflection of the beam at its tip.\n",
    "\n",
    "\n",
    "See Appendix A for masses of various objects."
   ]
  },
  {
   "cell_type": "code",
   "execution_count": null,
   "metadata": {
    "scrolled": false
   },
   "outputs": [],
   "source": [
    "# Repeat for each of your photos\n",
    "path = str(input(\"Paste or type your file path: \"))\n",
    "im = io.imread(path)\n",
    "\n",
    "fig, ax = plt.subplots(figsize=(10,5)) ### You may want to change the figure size!\n",
    "io.imshow(im)\n",
    "plugins.connect(fig, plugins.MousePosition(fontsize=14))\n",
    "mpld3.display()"
   ]
  },
  {
   "cell_type": "code",
   "execution_count": null,
   "metadata": {
    "scrolled": true
   },
   "outputs": [],
   "source": [
    "# Conversion factor\n",
    "ref_mm = float(input(\"Enter the length of the reference object in mm: \"))\n",
    "ref_pixels = float(input(\"Enter the length of the reference object in pixels (px): \"))\n",
    "pix_to_m = ref_mm/(ref_pixels*1000)\n",
    "\n",
    "# Force\n",
    "m = float(input(\"Enter the applied mass (g): \"))/1000 # converting to kg\n",
    "P = m*-9.81 # N = kg*m/s^2\n",
    "\n",
    "# Deflection\n",
    "wL_pix = float(input(\"Enter the y-deflection at L in pixels: \"))\n",
    "wL_m = wL_pix*pix_to_m\n",
    "\n",
    "pix_m_list.append(pix_to_m)\n",
    "P_list.append(P)\n",
    "wL_list.append(wL_m)"
   ]
  },
  {
   "cell_type": "markdown",
   "metadata": {},
   "source": [
    "Make a dataframe from these lists:"
   ]
  },
  {
   "cell_type": "code",
   "execution_count": null,
   "metadata": {},
   "outputs": [],
   "source": [
    "# Make a df\n",
    "E_list = E*np.ones_like(P_list)\n",
    "I_list = I*np.ones_like(P_list)\n",
    "L_list = L*np.ones_like(P_list)\n",
    "xL_list = L_list\n",
    "\n",
    "d1 = {'pix_to_m':pix_m_list,'E':E_list, 'I':I_list, 'P':P_list, 'L':L_list, 'xL':xL_list, 'wL_measured':wL_list}\n",
    "df1 = pd.DataFrame(d1)\n",
    "df1"
   ]
  },
  {
   "cell_type": "code",
   "execution_count": null,
   "metadata": {},
   "outputs": [],
   "source": [
    "# uncomment and add row number in brackets if you need to drop a row. \n",
    "# df1 = df1.drop([])"
   ]
  },
  {
   "cell_type": "markdown",
   "metadata": {},
   "source": [
    "Optional but strongly recommended: Edit path for your desired output location, then uncomment the next block and run it to export the dataframe to a csv in your shared folder. "
   ]
  },
  {
   "cell_type": "code",
   "execution_count": null,
   "metadata": {},
   "outputs": [],
   "source": [
    "# path = '/content/drive/Shared drives/ME305 Labs: Group X/Lab 2/part1data.csv'\n",
    "# df1.to_csv(path,index=False)"
   ]
  },
  {
   "cell_type": "markdown",
   "metadata": {},
   "source": [
    "By saving to a csv, if you need to stop working and return to the lab (or Google Colab times out), you don't need to redo all your measurements. Edit path for your desired output location, then uncomment and run the line below:"
   ]
  },
  {
   "cell_type": "code",
   "execution_count": null,
   "metadata": {},
   "outputs": [],
   "source": [
    "# path = '/content/drive/Shared drives/ME305 Labs: Group X/Lab 2/part1data.csv'\n",
    "# df1 = pd.read_csv(path)"
   ]
  },
  {
   "cell_type": "markdown",
   "metadata": {},
   "source": [
    "## Results for Part 1\n",
    "\n",
    "Run the next cell to plot your raw data. How does it look? Is there a clear trend? If it's very scattered, consider retaking your measurements. "
   ]
  },
  {
   "cell_type": "code",
   "execution_count": null,
   "metadata": {},
   "outputs": [],
   "source": [
    "fig,ax=plt.subplots(figsize=(5,5))\n",
    "df1.plot.scatter('P','wL_measured',s=100,ax=ax)\n",
    "ax.set_xlabel('P (N)',size=14)\n",
    "ax.set_ylabel('$w(L)$ (m)',size=14)\n",
    "#ax.set_ylim(-0.005,0.015) uncomment and edit if you want to \"zoom\"\n",
    "ax.set_title('End deflection for varied load',size=18)\n",
    "plt.show()"
   ]
  },
  {
   "cell_type": "markdown",
   "metadata": {},
   "source": [
    "## Image Processing for Part 2\n",
    "\n",
    "Edit the force (use Newtons) which you held constant for Part 2, and initialize lists where you'll record measurements."
   ]
  },
  {
   "cell_type": "code",
   "execution_count": null,
   "metadata": {},
   "outputs": [],
   "source": [
    "P = # N -- edit me\n",
    "\n",
    "wL_list_2 = [0] \n",
    "xL_list_2 = [0]"
   ]
  },
  {
   "cell_type": "markdown",
   "metadata": {},
   "source": [
    "Run & repeat the next two cells for all of your images from Part 2 of the experiments, where you varied the location of the load. This will store your measurements in the lists we initialized above."
   ]
  },
  {
   "cell_type": "code",
   "execution_count": null,
   "metadata": {},
   "outputs": [],
   "source": [
    "# Repeat for each of your photos\n",
    "path = str(input(\"Paste or type your file path: \"))\n",
    "im = io.imread(path)\n",
    "\n",
    "fig, ax = plt.subplots(figsize=(10,5))\n",
    "io.imshow(im)\n",
    "plugins.connect(fig, plugins.MousePosition(fontsize=14))\n",
    "mpld3.display()"
   ]
  },
  {
   "cell_type": "code",
   "execution_count": null,
   "metadata": {
    "scrolled": true
   },
   "outputs": [],
   "source": [
    "# Conversion factor\n",
    "ref_mm = float(input(\"Enter the length of the reference object in mm: \"))\n",
    "ref_pixels = float(input(\"Enter the length of the reference object in pixels (px): \"))\n",
    "pix_to_m = ref_mm/(ref_pixels*1000)\n",
    "\n",
    "# Loading position\n",
    "xL = float(input(\"Enter the x-location of loading (mm): \"))/1000 # convert to m\n",
    "\n",
    "# Deflection\n",
    "wL_pix = float(input(\"Enter the y-deflection at L in pixels: \"))\n",
    "wL_m = wL_pix*pix_to_m\n",
    "\n",
    "xL_list_2.append(xL)\n",
    "wL_list_2.append(wL_m)"
   ]
  },
  {
   "cell_type": "markdown",
   "metadata": {},
   "source": [
    "Make a dataframe from these lists:"
   ]
  },
  {
   "cell_type": "code",
   "execution_count": null,
   "metadata": {},
   "outputs": [],
   "source": [
    "# Make a df\n",
    "E_list_2 = E*np.ones_like(wL_list_2)\n",
    "I_list_2 = I*np.ones_like(wL_list_2)\n",
    "L_list_2 = L*np.ones_like(wL_list_2)\n",
    "P_list_2 = P*np.ones_like(wL_list_2)\n",
    "\n",
    "d2 = {'E':E_list_2, 'I':I_list_2, 'P':P_list_2, 'L':L_list_2, 'xL':xL_list_2, 'wL_measured':wL_list_2}\n",
    "df2 = pd.DataFrame(d2)\n",
    "df2"
   ]
  },
  {
   "cell_type": "code",
   "execution_count": null,
   "metadata": {},
   "outputs": [],
   "source": [
    "# uncomment and add row number in brackets if you need to drop a row. \n",
    "#df2 = df2.drop([])"
   ]
  },
  {
   "cell_type": "markdown",
   "metadata": {},
   "source": [
    "Optional but strongly recommended: Edit path for your desired output location, then uncomment the next block and run it to export the dataframe to a csv in your shared folder. "
   ]
  },
  {
   "cell_type": "code",
   "execution_count": null,
   "metadata": {},
   "outputs": [],
   "source": [
    "# path = '/content/drive/Shared drives/ME305 Labs: Group X/Lab 2/part2data.csv'\n",
    "# df2.to_csv(path,index=False)"
   ]
  },
  {
   "cell_type": "markdown",
   "metadata": {},
   "source": [
    "By saving to a csv, if you need to stop working and return to the lab (or Google Colab times out), you don't need to redo all your measurements. Edit path for your desired output location, then uncomment and run the line below:"
   ]
  },
  {
   "cell_type": "code",
   "execution_count": null,
   "metadata": {},
   "outputs": [],
   "source": [
    "# path = '/content/drive/Shared drives/ME305 Labs: Group X/Lab 2/part2data.csv'\n",
    "# df2 = pd.read_csv(path)"
   ]
  },
  {
   "cell_type": "markdown",
   "metadata": {},
   "source": [
    "## Results for Part 2\n",
    "\n",
    "Run the next cell to plot your raw data. How does it look? Is there a clear trend? If it's very scattered, consider retaking your measurements. "
   ]
  },
  {
   "cell_type": "code",
   "execution_count": null,
   "metadata": {},
   "outputs": [],
   "source": [
    "fig,ax=plt.subplots(figsize=(5,5))\n",
    "df2.plot.scatter('xL','wL_measured',s=100,c='olive',ax=ax)\n",
    "ax.set_xlabel('$x_L$ (m)',size=14)\n",
    "ax.set_ylabel('$w(L)$ (m)',size=14)\n",
    "# ax.set_ylim(-0.001,0.005) uncomment and edit if you want to \"zoom\"\n",
    "ax.set_title('End deflection for varied loading location',size=18)\n",
    "plt.show()"
   ]
  },
  {
   "cell_type": "markdown",
   "metadata": {},
   "source": [
    "## Analysis"
   ]
  },
  {
   "cell_type": "markdown",
   "metadata": {},
   "source": [
    "Now that you have measurements for $w(x=L)$ under two loadings, let's compare this to Euler-Bernoulli beam theory. Recall that integrating Equation (2) once or twice gives alternative forms of the beam equation, in terms of the resultant shear force and moment, respectively. The latter is probably the most useful form for this lab:\n",
    "\n",
    "\\begin{equation}\n",
    "EI \\frac{d^2w}{dx^2}=M(x).\n",
    "\\tag{3}\n",
    "\\end{equation}\n",
    "\n",
    "Beginning by drawing FBDs for the two loadings in your experiments (you can just sketch this on paper, no need to hand it in), solve the beam equation with the appropriate boundary conditions for each case. Recall that the number of BCs you need corresponds to the order of the differential equation that you use.\n",
    "\n",
    "You should end up with expressions for w(x) as a function of $P, L, E, I, x, x_L$.\n",
    "\n",
    "Write them below:\n",
    "\n",
    "Part 1 -- loading at $x=L$:\n",
    "\n",
    "\\begin{equation}\n",
    "w_1(x) = \n",
    "\\tag{4}\n",
    "\\end{equation}\n",
    "\n",
    "Part 2 -- loading at $x = x_L$:\n",
    "\n",
    "For $0 \\leq x \\leq x_L$:\n",
    "\n",
    "\\begin{equation}\n",
    "w_2(x) = \n",
    "\\tag{5a}\n",
    "\\end{equation}\n",
    "\n",
    "For $x_L \\leq x \\leq L$:\n",
    "\n",
    "\\begin{equation}\n",
    "w_2(x) = \n",
    "\\tag{5b}\n",
    "\\end{equation}\n"
   ]
  },
  {
   "cell_type": "markdown",
   "metadata": {},
   "source": [
    "Let's see how Equation (4) performs. Pick one of your (well-aligned) photos from Part 1 -- preferably one that you think is within the small slope range. \n",
    "\n",
    "Load this image again."
   ]
  },
  {
   "cell_type": "code",
   "execution_count": null,
   "metadata": {
    "scrolled": true
   },
   "outputs": [],
   "source": [
    "path = str(input(\"Paste or type your file path: \"))\n",
    "im = io.imread(path)\n",
    "\n",
    "fig, ax = plt.subplots(figsize=(10,5))\n",
    "io.imshow(im)\n",
    "plugins.connect(fig, plugins.MousePosition(fontsize=14))\n",
    "mpld3.display()"
   ]
  },
  {
   "cell_type": "markdown",
   "metadata": {},
   "source": [
    "Record the (x=0,y=0) position -- i.e. that of the clamp -- in pixels, then the (x,y) coordinates of the end of the beam."
   ]
  },
  {
   "cell_type": "code",
   "execution_count": null,
   "metadata": {
    "scrolled": true
   },
   "outputs": [],
   "source": [
    "x0 = float(input(\"Enter the x coordinate (pixel value) of the centerline of the beam at the clamp: \"))\n",
    "y0 = float(input(\"Enter the y coordinate (pixel value) of the centerline of the beam at the clamp: \"))\n",
    "xL = float(input(\"Enter the x coordinate (pixel value) of the centerline of the beam at its tip: \"))\n",
    "yL = float(input(\"Enter the y coordinate (pixel value) of the centerline of the beam at its tip: \"))"
   ]
  },
  {
   "cell_type": "markdown",
   "metadata": {},
   "source": [
    "Now locate the corresponding row index in df1, and enter the row number in the second cell below where it says\n",
    "\n",
    "    row_numb = ..."
   ]
  },
  {
   "cell_type": "code",
   "execution_count": null,
   "metadata": {},
   "outputs": [],
   "source": [
    "df1 # run to inspect df1"
   ]
  },
  {
   "cell_type": "code",
   "execution_count": null,
   "metadata": {},
   "outputs": [],
   "source": [
    "row_num = 1 ### Edit me\n",
    "\n",
    "r = df1.loc[row_num]\n",
    "P, E, I, L = r.P, r.E, r.I, r.L # store the variables from this row with simple names\n",
    "x = np.arange(0,L,L/30) # create array of 30 points between x=0 and x=L"
   ]
  },
  {
   "cell_type": "markdown",
   "metadata": {},
   "source": [
    "The previous cell stores the variables from your selected row with simple names, i.e. P, E, I, L, and created an array of 30 points called x. Use those variables to input Equation (4) below using the format:\n",
    "\n",
    "    w_x = (P*x)/(E**3-2)\n",
    "    \n",
    "where the above says $w(x) = \\frac{P x}{E^3-2}$ (WHICH IS WRONG! This is example is only for syntax.)"
   ]
  },
  {
   "cell_type": "code",
   "execution_count": null,
   "metadata": {},
   "outputs": [],
   "source": [
    "w_x = ... # Edit me to match Equation (4)\n",
    "\n",
    "# convert back to pixels so we can overlay the theoretical curve over the experimental photo.\n",
    "pix_to_m = L/(xL-x0)\n",
    "x_pix = x/pix_to_m + x0 # shift right by an amount x0 so the curve is \"zeroed\"\n",
    "w_x_pix = w_x/pix_to_m + y0 # shift down by an amount x0 so the curve is \"zeroed\""
   ]
  },
  {
   "cell_type": "markdown",
   "metadata": {},
   "source": [
    "Run the next cell to overlay the theoretical curve on your image."
   ]
  },
  {
   "cell_type": "code",
   "execution_count": null,
   "metadata": {
    "scrolled": false
   },
   "outputs": [],
   "source": [
    "fig, ax = plt.subplots(figsize=(12,7))\n",
    "ax.imshow(im)\n",
    "plt.plot(x_pix,-w_x_pix,'r--',linewidth=3)\n",
    "plt.show()"
   ]
  },
  {
   "cell_type": "markdown",
   "metadata": {},
   "source": [
    "### Discussion Questions"
   ]
  },
  {
   "cell_type": "markdown",
   "metadata": {},
   "source": [
    "<b>(1.) How does the theoretical curve (4) compare to your experimental one? :</b>\n",
    "\n",
    "...enter your answer here...\n",
    "\n",
    "<b>(2.) If the curves diverge, where? Why do you think that is? If not, why do you think the simplified theory performs so well? :</b>\n",
    "\n",
    "...enter your answer here..."
   ]
  },
  {
   "cell_type": "markdown",
   "metadata": {},
   "source": [
    "## More Analysis\n",
    "You're welcome to repeat the above for other images if you'd like!\n",
    "\n",
    "Otherwise, we can move on to see how your end deflection measurements compare to those predicted by Euler-Bernoulli beam theory. To do so, evaluate Equations (4) & (5) at $x = L$:\n",
    "\n",
    "Part 1 -- loading at $x=L$:\n",
    "\n",
    "\\begin{equation}\n",
    "w_1(L) = \n",
    "\\tag{6}\n",
    "\\end{equation}\n",
    "\n",
    "Part 2 -- loading at $x = x_L$:\n",
    "\n",
    "\\begin{equation}\n",
    "w_2(L) = \n",
    "\\tag{7}\n",
    "\\end{equation}\n",
    "\n",
    "\n",
    "Check: Would you expect Equation (7) to reduce do Equation (6) if you were to load at $x=L$? Does it?"
   ]
  },
  {
   "cell_type": "markdown",
   "metadata": {},
   "source": [
    "You're going to make new dataframe columns from Equations (6) and (7) for comparison to your experiments. The syntax is like this:\n",
    "\n",
    "    df['new_col'] = df.C1/(df.C2**2-5)\n",
    "    \n",
    "where I've written: in the dataframe named df, make a new column called new_col, which is calculated as $\\frac{C1}{C2^2-5}$ (for existing columns C1 and C2). \n",
    "\n",
    "Put Equations (6) and (7) into this format in the cell below:"
   ]
  },
  {
   "cell_type": "code",
   "execution_count": null,
   "metadata": {},
   "outputs": [],
   "source": [
    "df1['wL_theory'] = df1.P ... # Edit me to match Equation (6) \n",
    "df2['wL_theory'] = df2.P # Edit me too, Equation (7)"
   ]
  },
  {
   "cell_type": "markdown",
   "metadata": {},
   "source": [
    "Now run the next cell to add this theoretical \"curve\" to your plots!"
   ]
  },
  {
   "cell_type": "code",
   "execution_count": null,
   "metadata": {},
   "outputs": [],
   "source": [
    "fig,ax=plt.subplots(1,2, figsize=(14,6))\n",
    "\n",
    "df1.plot.scatter('P','wL_measured',s=100,ax=ax[0],label='Experiments')\n",
    "ax[0].plot(df1.P,df1.wL_theory,'k--',label='Theory: Eq. (6)')\n",
    "ax[0].set_xlabel('P (N)',size=14)\n",
    "ax[0].set_ylabel('$w(L)$ (m)',size=14)\n",
    "# ax[0].set_ylim(-0.001,0.005) uncomment and edit if you want to \"zoom\"\n",
    "ax[0].set_title('End deflection for varied load',size=18)\n",
    "ax[0].legend()\n",
    "\n",
    "df2.plot.scatter('xL','wL_measured',s=100,c='olive',ax=ax[1],label='Experiments')\n",
    "ax[1].plot(df2.xL,df2.wL_theory,'k--',label='Theory: Eq. (7)')\n",
    "ax[1].set_xlabel('$x_L$ (m)',size=14)\n",
    "ax[1].set_ylabel('$w(L)$ (m)',size=14)\n",
    "# ax[1].set_ylim(-0.001,0.005) uncomment and edit if you want to \"zoom\"\n",
    "ax[1].set_title('End deflection for varied load position',size=18)\n",
    "ax[1].legend()\n",
    "\n",
    "plt.show()"
   ]
  },
  {
   "cell_type": "markdown",
   "metadata": {},
   "source": [
    "## Discussion Questions Continued"
   ]
  },
  {
   "cell_type": "markdown",
   "metadata": {},
   "source": [
    "<b>(3.) How does the theoretical curve (6) compare to your experimental data? :</b>\n",
    "\n",
    "...enter your answer here...\n",
    "\n",
    "<b>(4.) How does the theoretical curve (7) compare to your experimental data? :</b>\n",
    "\n",
    "...enter your answer here...\n",
    "\n",
    "<b>(5.) Do you think the masses you've used to apply forces correspond to \"small slopes\" for this material?:</b>\n",
    "\n",
    "...enter your answer here...\n",
    "\n",
    "<b>(6.)  What sources of error are present with your measurements, and how would you reduce the error using the materials/tools you currently have? Be specific: For example if there's one outlier, look back at that image and see if anything stands out compared to the others. :</b>\n",
    "\n",
    "...enter your answer here...\n",
    "\n",
    "<b>(7.)  If instead of loading a beam of length $L$ at $x=x_L<L$ as you did in Part 2, you loaded a shorter beam of length $x_L$ at its tip, how would you expect the deflection to change? Why? :</b>\n",
    "\n",
    "...enter your answer here...\n",
    "\n",
    "<b>(8.)  Euler-Bernoulli beam theory can be specialized to other loadings and boundary conditions besides a clamped cantilever. Suppose you instead placed your beam atop two stacks of books at $x=0$ and $x=L$ (just resting, not clamped), and hung a weight resulting in a force $P$ in the middle at $x=L/2$. How would you go about predicting the deflection $w(x=L/2)$? (Outline it, you don't need to solve) :</b>\n",
    "\n",
    "...enter your answer here...\n",
    "\n"
   ]
  },
  {
   "cell_type": "markdown",
   "metadata": {},
   "source": [
    "<a id='mass'></a>\n",
    "## Appendix A: Masses of Various Objects\n",
    "\n",
    "| Object | Mass (g) | Diameter (mm) | Height (mm) |\n",
    "| --- | --- | --- | --- |\n",
    "| Dime | 2 | 17.9 | 1.35 |\n",
    "| Penny | 3 | 19.1 | 1.52 |\n",
    "| Nickel | 5 | 21.2 | 1.95 |\n",
    "| Quarter | 5.6 | 24.3 | 1.75 |\n",
    "| AAA Battery | 11 | 10.5 | 44.5 |\n",
    "| AA Battery | 24 | 14.5 | 50.5 |\n",
    "| 9V Battery | 45 | n/a  | 48.5  |\n",
    "| C Battery | 67 | 26.2 | 50.0 |\n",
    "| D Battery | 136 | 34.2 | 61.5 |"
   ]
  }
 ],
 "metadata": {
  "kernelspec": {
   "display_name": "Python 3",
   "language": "python",
   "name": "python3"
  },
  "language_info": {
   "codemirror_mode": {
    "name": "ipython",
    "version": 3
   },
   "file_extension": ".py",
   "mimetype": "text/x-python",
   "name": "python",
   "nbconvert_exporter": "python",
   "pygments_lexer": "ipython3",
   "version": "3.7.3"
  }
 },
 "nbformat": 4,
 "nbformat_minor": 2
}
