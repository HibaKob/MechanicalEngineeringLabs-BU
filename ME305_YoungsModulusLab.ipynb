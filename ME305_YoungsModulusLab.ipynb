{
 "cells": [
  {
   "cell_type": "markdown",
   "metadata": {},
   "source": [
    "# How to Measure Young's Modulus"
   ]
  },
  {
   "cell_type": "markdown",
   "metadata": {},
   "source": [
    "Perhaps the most fundamental property of a material is: how does it behave when you push or pull on it? Is it stiff like diamond or soft like Jello? The relationship between <b>forces</b> and <b>deformation</b> is fundamental to the study of materials science, engineering mechanics, biomechanics, and physics, and yet when presented with a new material, we are unable to predict this property from theory - <b>we need to measure it experimentally</b>. \n",
    "\n",
    "What is remarkable, is that when the relationship between force and deformation was measured for different materials, a common trend emerged. The [polymath](https://en.wikipedia.org/wiki/Polymath) [Robert Hooke](https://en.wikipedia.org/wiki/Robert_Hooke) was the first to state the law that relates force to deformation (stretching/compression) in 1678, in which he wrote:\n",
    "<blockquote>\n",
    "    <i>ut tensio, sic vis</i> (\"as the extension, so the force\")\n",
    "</blockquote>    \n",
    "In other words, the force required to stretch a spring is proportional to the amount it is stretch: the relationship between force and deformation is <b>linear</b> (as long as the material isn't stretched too much). This law is first encountered for springs, in which we write\n",
    "\\begin{equation}\n",
    "F = k x,\n",
    "\\label{hooke} \\tag{1}\n",
    "\\end{equation}\n",
    "where $F$ is the force acting to extend/compress the spring, $x$ is the amount of extension, and $k$ is the spring stiffness. \n",
    "\n",
    "<img src = \"https://upload.wikimedia.org/wikipedia/commons/thumb/f/fc/Hookes-law-springs.png/1200px-Hookes-law-springs.png\" width = 50%>\n",
    "\n",
    "In the study of the <i>mechanics of materials</i>, we generalize equation~\\ref{hooke} to a similar equation that relates <b>stress</b> to <b>strain</b>. Why?"
   ]
  },
  {
   "cell_type": "markdown",
   "metadata": {},
   "source": [
    "## Appendix A: Masses of Various Objects"
   ]
  },
  {
   "cell_type": "markdown",
   "metadata": {},
   "source": [
    "| Object | Mass (g) |\n",
    "| --- | --- |\n",
    "| Dime | 2 |\n",
    "| Penny | 3 |\n",
    "| Quarter, Nickel | 5 |\n",
    "| AAA Battery | 11 |\n",
    "| AA Battery | 24 |\n",
    "| 9V Battery | 45 |\n",
    "| C Battery | 67 |\n",
    "| D Battery | 136 |"
   ]
  },
  {
   "cell_type": "code",
   "execution_count": null,
   "metadata": {},
   "outputs": [],
   "source": []
  }
 ],
 "metadata": {
  "kernelspec": {
   "display_name": "Python 3",
   "language": "python",
   "name": "python3"
  },
  "language_info": {
   "codemirror_mode": {
    "name": "ipython",
    "version": 3
   },
   "file_extension": ".py",
   "mimetype": "text/x-python",
   "name": "python",
   "nbconvert_exporter": "python",
   "pygments_lexer": "ipython3",
   "version": "3.7.4"
  }
 },
 "nbformat": 4,
 "nbformat_minor": 4
}
