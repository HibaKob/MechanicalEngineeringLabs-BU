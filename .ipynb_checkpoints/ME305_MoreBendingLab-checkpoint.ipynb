{
 "cells": [
  {
   "cell_type": "markdown",
   "metadata": {},
   "source": [
    "# Lab 3: More on Beam Bending\n",
    "\n",
    "FIXME: INTRO HERE\n"
   ]
  },
  {
   "cell_type": "markdown",
   "metadata": {},
   "source": [
    "## Prelab Questions:\n",
    "\n",
    "Read, but do not yet complete, the  [Experiments](#exp) section. Then discuss within your group and answer the following questions:\n",
    "\n",
    "<b>(1.) Do you think the the beam in Part 1 whose layers are bound will produce more deflection, the unbound one in Part 2, or will the deflection be the same? Why? :</b>\n",
    "\n",
    "...enter your answer here...\n",
    "\n",
    "<b>(2.) Each magazine beam's self-weight will act as a distributed load. Is this load the same in Part 1 and Part 2? Explain your answer. :</b>\n",
    "\n",
    "...enter your answer here...\n",
    "\n",
    "<b>(3.) Is the second moment of area, I, the same for the bound beam in Part 1 and the one with \"loose\" layers in Part 2? Explain your answer.:</b>\n",
    "\n",
    "...enter your answer here...\n",
    "\n",
    "<b>(4.) Do you think Euler-Bernoulli beam theory will accurately predict the deflection $w$ of the beam in Part 1? Why or why not? :</b>\n",
    "\n",
    "...enter your answer here...\n",
    "\n",
    "<b>(5.) Do you think Euler-Bernoulli beam theory will accurately predict the deflection $w$ of the beam in Part 2? Why or why not? :</b>\n",
    "\n",
    "...enter your answer here...\n",
    "\n"
   ]
  },
  {
   "cell_type": "markdown",
   "metadata": {},
   "source": [
    "## Experiments <a id='exp'></a>\n",
    "\n",
    "1. Find a paperback book, magazine, notebook, other floppy book, or a stack of papers that you can staple bind the edges in some other way. \n",
    "\n",
    " <u> Part 1: Bound end </u>\n",
    "\n",
    "2. Cantilever the magazine \"beam\" (it will be short and wide!) by clamping the <b>free</b> edge opposite the binding. For example, you can place the endge underneath heavy books. Let the bound end hang freely.\n",
    "\n",
    "3. Adjust L, the distance between your clamp and the bound edge, such that the slopes are not too large, then measure and record L.\n",
    "\n",
    "4. You need a reference object in the frame. Measure it.\n",
    "\n",
    "5. Take a photo, ensuring that the camera is horizontal in space, level with and perpendicular to the magazine beam. \n",
    "\n",
    "6. Take a close-up photo, this time centering and focusing on the end of the beam. Move the reference if necessary such that it's still in the frame. Ensure that the camera is perfectly horizontal and perpendicular to the beam.\n",
    "\n",
    " <u> Part 2: Free end </u>\n",
    "\n",
    "7. Cantilever the magazine beam by clamping the <b>bound</b> edge. Let the edge opposite the binding hang freely, and adjust so that $L$ is the same as in Part 1.\n",
    "\n",
    "8. Take a photo, ensuring that the camera is horizontal in space, level with and perpendicular to the magazine beam. In particular, make sure the end of the beam is clear in the image.\n",
    "\n",
    "9. Take a close-up photo, this time centering and focusing on the end of the beam. Move the reference if necessary such that it's still in the frame. Ensure that the camera is perfectly horizontal and perpendicular to the beam.\n",
    "\n",
    "10. Add images (descriptively named) to your shared Google drive.\n",
    "\n",
    "<a href=\"https://ibb.co/316V9Tn\"><img src=\"https://i.ibb.co/G7YG4dq/Example-bound.jpg\" alt=\"Example-bound\" border=\"0\"></a>\n"
   ]
  },
  {
   "cell_type": "code",
   "execution_count": 2,
   "metadata": {},
   "outputs": [],
   "source": [
    "install_mpld3 = !pip install \"git+https://github.com/mpld3/mpld3\" \n",
    "import math         # sine, cosine, sqrt, etc.\n",
    "import numpy as np  # so we can work with matrices\n",
    "import pandas as pd               # for data/tables\n",
    "\n",
    "import matplotlib\n",
    "import matplotlib.pyplot as plt # plotting\n",
    "\n",
    "from skimage import io            # working with images\n",
    "from IPython.display import Image,display # images in colab\n",
    "import mpld3                      # interacting with images\n",
    "from mpld3 import plugins         # getting pixel data from images"
   ]
  },
  {
   "cell_type": "markdown",
   "metadata": {},
   "source": [
    "Need to solve:\n",
    "- Cantilever, distributed load self-weight (m(n=1), m(n=N))?\n",
    "- I = bh^3/12. Bound: h is higher. Not bound: h = h(n=1)\n",
    "\n",
    "Need to measure + check:\n",
    "- measure w. Using E-B, should get highest sheet, others should be harder\n",
    "- measure angle -> get shear stress * how? (Quantify the resistance -- sliding against each other)\n",
    "\n",
    "Address in discussion:\n",
    "- Transverse loading causes bending moment -> normal stress, AND shear force -> shear stress.\n",
    "- What is the shear modulus of glue to design to resist this amount s.t. glue doesn't fail? \n",
    "- top layer wants to slide more (but how to reconcile with top in tension, bottom in compression?)\n",
    "- Important for thick/short beams (they'll fail in bending)\n",
    "- Connect to wood resisting sliding\n",
    "\n"
   ]
  },
  {
   "cell_type": "code",
   "execution_count": null,
   "metadata": {},
   "outputs": [],
   "source": []
  }
 ],
 "metadata": {
  "kernelspec": {
   "display_name": "Python 3",
   "language": "python",
   "name": "python3"
  },
  "language_info": {
   "codemirror_mode": {
    "name": "ipython",
    "version": 3
   },
   "file_extension": ".py",
   "mimetype": "text/x-python",
   "name": "python",
   "nbconvert_exporter": "python",
   "pygments_lexer": "ipython3",
   "version": "3.7.3"
  }
 },
 "nbformat": 4,
 "nbformat_minor": 2
}
