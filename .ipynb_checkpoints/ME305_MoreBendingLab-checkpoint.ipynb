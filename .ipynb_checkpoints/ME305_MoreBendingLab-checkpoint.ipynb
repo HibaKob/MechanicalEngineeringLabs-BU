{
 "cells": [
  {
   "cell_type": "markdown",
   "metadata": {},
   "source": [
    "# Lab 3: More on Beam Bending\n",
    "\n",
    "### Fixme: add intro"
   ]
  },
  {
   "cell_type": "markdown",
   "metadata": {},
   "source": [
    "## Prelab Questions:\n",
    "\n",
    "Read, but do not yet complete, the  [Experiments](#exp) section. Then discuss within your group and answer the following questions:\n",
    "\n",
    "<b>(1.) Which do you think will produce more deflection: the beam whose layers are bound (Part 1) or the one with the unbound edge at the free end (Part 2)? Or, will the deflection be the same? Why? :</b>\n",
    "\n",
    "...enter your answer here...\n",
    "\n",
    "<b>(2.) Describe (qualitatively, in terms of angles, etc.) what you think the end of the beam will look like in each case. :</b>\n",
    "\n",
    "...enter your answer here...\n",
    "\n",
    "<b>(3.) In these experiments, self-weight will act as a distributed load. (a.) What would the magnitude of the load be for a cantilever \"beam\" which is just a single sheet of paper? (b.) If it were two sheets completely glued together? (c.) N sheets (essentially your case for Part 1)? :</b>\n",
    "\n",
    "...enter your answer here...\n",
    "\n",
    "<b>(4.) Now imagine a cantilever \"beam\" comprised of two sheets of paper that are not glued together. If you used the value you gave for the distributed load of one sheet in (3a.) to predict the beam's deflection, how do you think the prediction would compare to the experiment? What about if you used the value you gave for (3b.)? :</b>\n",
    "\n",
    "...enter your answer here...\n",
    "\n",
    "<b>(5.) How would you calculate the second moment of area, I, for the bound beam in Part 1? Is it the same for the one with \"loose\" layers in Part 2? Explain your answer.:</b>\n",
    "\n",
    "...enter your answer here...\n",
    "\n",
    "<b>(6.) Do you think Euler-Bernoulli beam theory will accurately predict the deflection $w$ of the beam in Part 1? Why or why not? In Part 2? Why or why not?:</b>\n",
    "\n",
    "...enter your answer here..."
   ]
  },
  {
   "cell_type": "markdown",
   "metadata": {},
   "source": [
    "## Experiments <a id='exp'></a>\n",
    "\n",
    "1. Find a paperback book, magazine, notebook, other floppy book, or a stack of papers that you can staple or otherwise bind one edge. Also find something to clamp it with, e.g. a stack of other, heavier books.\n",
    "\n",
    " <u> Part 1: Bound end </u>\n",
    "\n",
    "2. Cantilever the magazine \"beam\" (yes, we are using this term liberally) by clamping the <b>free</b> edge (the one opposite the binding.) Let the bound end hang freely.\n",
    "\n",
    "3. Adjust L, the distance between your clamp and the bound edge, such that the slopes are not too large, then measure and record L.\n",
    "\n",
    "4. You need a reference object in the frame. Measure it.\n",
    "\n",
    "5. Take a photo, ensuring that the camera is horizontal in space, and level with and perpendicular to the subject.\n",
    "\n",
    "6. Take a second photo, this time closer up. Center and focus on the <b>end</b> of the beam. Move the reference if necessary such that it's still in the frame. Ensure that the camera is perfectly horizontal and perpendicular to the beam.\n",
    "\n",
    " <u> Part 2: Free end </u>\n",
    "\n",
    "7. Cantilever the beam by clamping the <b>bound</b> edge. Let the edge opposite the binding hang freely, and adjust so that $L$ is the same as in Part 1.\n",
    "\n",
    "8. Take a photo, ensuring that the camera is horizontal in space, and level with and perpendicular to the subject.\n",
    "\n",
    "9. Take another photo, this time closer up. Center and focus on the <b>end</b> of the beam. Move the reference if necessary such that it's still in the frame. Ensure that the camera is perfectly horizontal and perpendicular to the beam.\n",
    "\n",
    "10. Add images (descriptively named) to your shared Google drive.\n",
    "\n",
    "<a href=\"https://ibb.co/gVMtFyP\"><img src=\"https://i.ibb.co/RypQ42B/Example-bound-noangle.jpg\" alt=\"Example-bound-noangle\" border=\"0\"></a>"
   ]
  },
  {
   "cell_type": "code",
   "execution_count": 2,
   "metadata": {},
   "outputs": [],
   "source": [
    "install_mpld3 = !pip install \"git+https://github.com/mpld3/mpld3\" \n",
    "import math         # sine, cosine, sqrt, etc.\n",
    "import numpy as np  # so we can work with matrices\n",
    "import pandas as pd               # for data/tables\n",
    "\n",
    "import matplotlib\n",
    "import matplotlib.pyplot as plt # plotting\n",
    "\n",
    "from skimage import io            # working with images\n",
    "from IPython.display import Image,display # images in colab\n",
    "import mpld3                      # interacting with images\n",
    "from mpld3 import plugins         # getting pixel data from images"
   ]
  },
  {
   "cell_type": "markdown",
   "metadata": {},
   "source": [
    "Need to solve:\n",
    "- Cantilever, distributed load self-weight (m(n=1), m(n=N))?\n",
    "- I = bh^3/12. Bound: h is higher. Not bound: h = h(n=1)\n",
    "\n",
    "Need to measure + check:\n",
    "- measure w. Using E-B, should get highest sheet, others should be harder\n",
    "- measure angle -> get shear stress * how? (Quantify the resistance -- sliding against each other)\n",
    "\n",
    "Address in discussion:\n",
    "- Transverse loading causes bending moment -> normal stress, AND shear force -> shear stress.\n",
    "- What is the shear modulus of glue to design to resist this amount s.t. glue doesn't fail? \n",
    "- top layer wants to slide more (but how to reconcile with top in tension, bottom in compression?)\n",
    "- Important for thick/short beams (they'll fail in bending)\n",
    "- Connect to wood resisting sliding\n",
    "\n",
    "[Extra reading](https://twitter.com/PoinclouxS/status/1234775757043441666)"
   ]
  },
  {
   "cell_type": "markdown",
   "metadata": {},
   "source": [
    "<a href=\"https://ibb.co/316V9Tn\"><img src=\"https://i.ibb.co/G7YG4dq/Example-bound.jpg\" alt=\"Example-bound\" border=\"0\"></a>"
   ]
  },
  {
   "cell_type": "code",
   "execution_count": null,
   "metadata": {},
   "outputs": [],
   "source": []
  }
 ],
 "metadata": {
  "kernelspec": {
   "display_name": "Python 3",
   "language": "python",
   "name": "python3"
  },
  "language_info": {
   "codemirror_mode": {
    "name": "ipython",
    "version": 3
   },
   "file_extension": ".py",
   "mimetype": "text/x-python",
   "name": "python",
   "nbconvert_exporter": "python",
   "pygments_lexer": "ipython3",
   "version": "3.7.3"
  }
 },
 "nbformat": 4,
 "nbformat_minor": 2
}
