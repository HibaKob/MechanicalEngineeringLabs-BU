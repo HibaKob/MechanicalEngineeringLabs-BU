{
 "cells": [
  {
   "cell_type": "markdown",
   "metadata": {},
   "source": [
    "## Important\n",
    "\n",
    "We have designed remote labs keeping in mind the ABET 2020 standards of 21st century engineering. When conducting the lab work, we would like you to “function effectively on a team whose members together provide leadership, create a collaborative and inclusive environment, establish goals, plan tasks, and meet objectives” while developing the “ability to develop and conduct appropriate experimentation, analyze and interpret data, and use engineering judgment to draw conclusions.\n",
    "\n",
    "Please use the following strategies to approach your lab group work:\n",
    "\n",
    "1.   **Independently Collect Data**. As you work with your group, make sure ***that each group member is conducting the experiment and collecting data on their own.*** This will allow you each to independently run the experiments yourself and gain specific knowledge needed to conduct experiments.\n",
    "\n",
    "2.   **Troubleshoot Experiments in Parallel**. As you work with your group, think about ways to support your group members with innovations you gain through your independent troubleshooting. Different group members may find different ways to achieve similar outcomes or help others with steps that may be especially difficult.\n",
    "\n",
    "3.   **Synthesize Multiple Results and Data Interpretations**. Through this process, all group members will have the opportunity to develop individual data and make their own interpretations of that data. As you work as a group to answer the discussion questions and plot your results, think about ways to aggregate your individual results and interpretations into a synthesized conclusion."
   ]
  },
  {
   "cell_type": "markdown",
   "metadata": {},
   "source": [
    "# Lab 3: More on Beam Bending"
   ]
  },
  {
   "cell_type": "markdown",
   "metadata": {},
   "source": [
    "## Prelab Questions:\n",
    "\n",
    "Read, but do not yet complete, the  [Experiments](#exp) section. Then discuss within your group and answer the following questions:\n",
    "\n",
    "<b>(1.) Which do you think will produce more deflection: the beam whose layers are bound (Part 1) or the one with the unbound edge at the free end (Part 2)? Or, will the deflection be the same? Why? :</b>\n",
    "\n",
    "...enter your answer here...\n",
    "\n",
    "<b>(2.) Describe (qualitatively, in terms of angles, etc.) what you think the end of the beam will look like in each case. :</b>\n",
    "\n",
    "...enter your answer here...\n",
    "\n",
    "<b>(3.) In these experiments, self-weight will act as a distributed load. (a.) What would the magnitude of the load be for a cantilever \"beam\" which is just a single sheet of paper? (b.) If it were two sheets completely glued together? (c.) N sheets (essentially your case for Part 1)? :</b>\n",
    "\n",
    "...enter your answer here...\n",
    "\n",
    "<b>(4.) Now imagine a cantilever \"beam\" comprised of two sheets of paper that are not glued together. If you used the value you gave for the distributed load of one sheet in (3a.) to predict the beam's deflection, how do you think the prediction would compare to the experiment? What about if you used the value you gave for (3b.)? :</b>\n",
    "\n",
    "...enter your answer here...\n",
    "\n",
    "<b>(5.) How would you calculate the second moment of area, I, for the bound beam in Part 1? Is it the same for the one with \"loose\" layers in Part 2? Explain your answer.:</b>\n",
    "\n",
    "...enter your answer here...\n",
    "\n",
    "<b>(6.) Do you think Euler-Bernoulli beam theory will accurately predict the deflection $w$ of the beam in Part 1? Why or why not? In Part 2? Why or why not?:</b>\n",
    "\n",
    "...enter your answer here..."
   ]
  },
  {
   "cell_type": "markdown",
   "metadata": {},
   "source": [
    "## Experiments <a id='exp'></a>\n",
    "\n",
    "1. Find a paperback book, magazine, notebook, other floppy book, or a stack of papers that you can staple or otherwise bind one edge. Also find something to clamp it with, e.g. a stack of other, heavier books.\n",
    "\n",
    " <u> Part 1: Bound end </u>\n",
    "\n",
    "2. Cantilever the magazine \"beam\" (yes, we are using this term liberally) by clamping the <b>free</b> edge (the one opposite the binding.) Let the bound end hang freely.\n",
    "\n",
    "3. Adjust L, the distance between your clamp and the bound edge, such that the slopes are not too large, then measure and record L.\n",
    "\n",
    "4. You need a reference object in the frame. Measure it.\n",
    "\n",
    "5. Take a photo, ensuring that the camera is horizontal in space, and level with and perpendicular to the subject.\n",
    "\n",
    "6. Take a second photo, this time closer up. Center and focus on the <b>end</b> of the beam. Move the reference if necessary such that it's still in the frame. Ensure that the camera is perfectly horizontal and perpendicular to the beam.\n",
    "\n",
    " <u> Part 2: Free end </u>\n",
    "\n",
    "7. Cantilever the beam by clamping the <b>bound</b> edge. Let the edge opposite the binding hang freely, and adjust so that $L$ is the same as in Part 1.\n",
    "\n",
    "8. Take a photo, ensuring that the camera is horizontal in space, and level with and perpendicular to the subject.\n",
    "\n",
    "9. Take another photo, this time closer up. Center and focus on the <b>end</b> of the beam. Move the reference if necessary such that it's still in the frame. Ensure that the camera is perfectly horizontal and perpendicular to the beam.\n",
    "\n",
    "10. Add images (descriptively named) to your shared Google drive.\n",
    "\n",
    "<a href=\"https://ibb.co/gVMtFyP\"><img src=\"https://i.ibb.co/RypQ42B/Example-bound-noangle.jpg\" alt=\"Example-bound-noangle\" border=\"0\"></a>"
   ]
  },
  {
   "cell_type": "code",
   "execution_count": null,
   "metadata": {},
   "outputs": [],
   "source": []
  }
 ],
 "metadata": {
  "kernelspec": {
   "display_name": "Python 3",
   "language": "python",
   "name": "python3"
  },
  "language_info": {
   "codemirror_mode": {
    "name": "ipython",
    "version": 3
   },
   "file_extension": ".py",
   "mimetype": "text/x-python",
   "name": "python",
   "nbconvert_exporter": "python",
   "pygments_lexer": "ipython3",
   "version": "3.7.3"
  }
 },
 "nbformat": 4,
 "nbformat_minor": 2
}
