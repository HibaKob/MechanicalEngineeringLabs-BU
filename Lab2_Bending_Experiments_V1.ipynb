{
 "cells": [
  {
   "cell_type": "markdown",
   "metadata": {},
   "source": [
    "## Important\n",
    "\n",
    "We have designed remote labs keeping in mind the ABET 2020 standards of 21st century engineering. When conducting the lab work, we would like you to “function effectively on a team whose members together provide leadership, create a collaborative and inclusive environment, establish goals, plan tasks, and meet objectives” while developing the “ability to develop and conduct appropriate experimentation, analyze and interpret data, and use engineering judgment to draw conclusions.\n",
    "\n",
    "Please use the following strategies to approach your lab group work:\n",
    "\n",
    "1.   **Independently Collect Data**. As you work with your group, make sure ***that each group member is conducting the experiment and collecting data on their own.*** This will allow you each to independently run the experiments yourself and gain specific knowledge needed to conduct experiments.\n",
    "\n",
    "2.   **Troubleshoot Experiments in Parallel**. As you work with your group, think about ways to support your group members with innovations you gain through your independent troubleshooting. Different group members may find different ways to achieve similar outcomes or help others with steps that may be especially difficult.\n",
    "\n",
    "3.   **Synthesize Multiple Results and Data Interpretations**. Through this process, all group members will have the opportunity to develop individual data and make their own interpretations of that data. As you work as a group to answer the discussion questions and plot your results, think about ways to aggregate your individual results and interpretations into a synthesized conclusion.\n",
    "\n",
    "Run the prelims before we get started:"
   ]
  },
  {
   "cell_type": "markdown",
   "metadata": {},
   "source": [
    "# Lab 2: The Shape of a Bending Beam"
   ]
  },
  {
   "cell_type": "markdown",
   "metadata": {},
   "source": [
    "What is the shape of a bent beam? This is perhaps one of the oldest and most important questions in all of mechanics. It attracted the attention of some of the greatest minds in mathematics, including Galileo, the Bernoullis, and Euler. It's shape is useful in the design of engineering structures, [shipbuilding](https://www.marineinsight.com/naval-architecture/ship-construction-plate-machining-assembly-hull-units-block-erection/), creating [flexible electronic devices](https://matmatch.com/blog/flexible-electronics-world/), modelling and [animating hair](https://disney-animation.s3.amazonaws.com/uploads/production/publication_asset/167/asset/moanaHair_abstract1.pdf) in Disney movies, describing the shape of a [meniscus and a fluid droplet](https://www.fmf.uni-lj.si/~podgornik/download/Analogies-drop-elastica.pdf), and in laying [transatlantic communication cables](https://www.mdpi.com/2077-1312/8/1/48/pdf), among countless other examples. For a detailed look at the history of elastica, the curious reader may enjoy [this article](https://www.levien.com/phd/elastica_hist.pdf).\n",
    "\n",
    "Remarkably, the shape of a thin strip of elastic material - an <i>elastica</i> in Latin - is given by same differential equation that describes a pendulum,\n",
    "\\begin{equation}\n",
    "\\frac{d^2\\theta(s)}{ds^2} + \\lambda \\sin[\\theta(s)] = 0,\n",
    "\\tag{1}\n",
    "\\end{equation}\n",
    "    where $s$ is the location along the <i>elastica</i>, $\\theta(s)$ is the angle or slope of the <i>elastica</i> at a given location $s$, that is $\\theta(s)=dw/ds$ where $w$ is the vertical deflection, and $\\lambda$ is the magnitude of applied force to the bending rigidity of the <i>elastica</i>. If we can solve equation (1) for $\\theta(s)$, we will know the shape of a bent bend under what load parameter $\\lambda$ that we apply. \n",
    "    \n",
    "However, equation (1) is very difficult to solve. It is difficult because it is <b>nonlinear</b>, and it is nonlinear because of the $\\sin[\\theta(s)]$ term. When the slopes of the beam are small, we know from the small angle approximation (or, more formally from a Taylor series expansion) that $\\sin[\\theta(s)]\\approx \\theta(s)$ <i>et voila</i> the equation is no longer nonlinear. We a little bit of work, we can manipulate this linear equation into the equation you are more familiar with, the equation of an elastic curve\n",
    "\\begin{equation}\n",
    "EI \\frac{d^4w}{dx^4}=q(x),\n",
    "\\tag{2}\n",
    "\\end{equation}\n",
    "where $EI$ is the bending or flexural rigidity where $E$ is Young's elastic modulus, $I$ is the [second moment of area](https://en.wikipedia.org/wiki/Second_moment_of_area), and $q(x)$ is the distributed load acting transverse or orthogonal to the beam's neutral axis - it has units of force per unit length. Here, I have assumed that $E$ and $I$ do not change along the $x$ axis of the beam, otherwise equation (2) becomes a bit more complicated. You may be wondering why we're now taking derivatives with respect to $x$, which is the Cartesean coordinate running along the beam's neutral axis when the beam is <b>undeformed</b>, rather than $s$, which is a coordinate running along the neutral axis of the <b>deformed</b>, or bent, beam. The reason we can use the <b>undeformed</b> configuration, and thus take derivatives with respect to $x$, is because we assumed the <b>slope of the beam is small</b>, and this means that $s\\approx x$. Because this fourth-order [ordinary differential equation](https://en.wikipedia.org/wiki/Ordinary_differential_equation) is <b>linear</b> (remember, we are assuming the beam is bent, but not too much), it is straightforward to solve."
   ]
  },
  {
   "attachments": {},
   "cell_type": "markdown",
   "metadata": {},
   "source": [
    "## Experiments\n",
    "\n",
    "1. Find a ruler or a similarly shaped object.\n",
    "\n",
    "2. Cantilever the beam, i.e. impose clamped-free boundary conditions. For example, you can place one end underneath heavy books, duct tape it to a table, etc. Let the other end hang freely.\n",
    "\n",
    " <u> Part 1: Fixed location of point load, varied load magnitude. </u>\n",
    "\n",
    "3. Measure and record $L$, the distance between your clamp and the end of the beam. \n",
    "\n",
    "4. Add mass to the end of the beam by hanging or resting weights. Record the mass.\n",
    "\n",
    "5. You need a reference object in the frame. This can be the same object as your mass or something like a thumb tack. Measure it and place it near the location of your mass.\n",
    "\n",
    "6. Take a photo ensuring that your camera view is at eye level with and perpendicular to the beam. \n",
    "\n",
    "7. Repeat steps 4 through 6 four to six times for different masses, for a total of 5-7 photos.\n",
    "\n",
    " <u> Part 2: Fixed load magnitude, varied location of point load.</u>\n",
    "\n",
    "8. Choose one of your mass values (record it) and move it from the end of the beam to some other spot along x. Record the new position.\n",
    "\n",
    "9. Take a photo.\n",
    "\n",
    "10. Repeat steps 8 through 9 three times for the same mass, so you have photos for a total of 5 positions (including at the end, $x=L$, from Part 1). \n",
    "\n",
    "    <p>&nbsp;</p>\n",
    "11. If necessary, crop and downsize your images so that they're an acceptable size for Colab. \n",
    "\n",
    "12. Add all images (descriptively named) to your shared Google drive.\n",
    "\n",
    "<a href=\"https://ibb.co/vkchQJM\"><img src=\"https://i.ibb.co/CQw6MnS/cantilever-ex2.jpg\" alt=\"cantilever-ex2\" border=\"0\" /></a>\n",
    "\n",
    "Note that if your beam deflects more than the example image above, it's probably beyond the small slope approximation."
   ]
  },
  {
   "cell_type": "markdown",
   "metadata": {},
   "source": [
    "<a id='mass'></a>\n",
    "## Appendix A: Masses of Various Objects\n",
    "\n",
    "| Object | Mass (g) | Diameter (mm) | Height (mm) |\n",
    "| --- | --- | --- | --- |\n",
    "| Dime | 2 | 17.9 | 1.35 |\n",
    "| Penny | 3 | 19.1 | 1.52 |\n",
    "| Nickel | 5 | 21.2 | 1.95 |\n",
    "| Quarter | 5.6 | 24.3 | 1.75 |\n",
    "| AAA Battery | 11 | 10.5 | 44.5 |\n",
    "| AA Battery | 24 | 14.5 | 50.5 |\n",
    "| 9V Battery | 45 | n/a  | 48.5  |\n",
    "| C Battery | 67 | 26.2 | 50.0 |\n",
    "| D Battery | 136 | 34.2 | 61.5 |"
   ]
  },
  {
   "cell_type": "code",
   "execution_count": null,
   "metadata": {},
   "outputs": [],
   "source": []
  }
 ],
 "metadata": {
  "kernelspec": {
   "display_name": "Python 3",
   "language": "python",
   "name": "python3"
  },
  "language_info": {
   "codemirror_mode": {
    "name": "ipython",
    "version": 3
   },
   "file_extension": ".py",
   "mimetype": "text/x-python",
   "name": "python",
   "nbconvert_exporter": "python",
   "pygments_lexer": "ipython3",
   "version": "3.7.3"
  }
 },
 "nbformat": 4,
 "nbformat_minor": 2
}
