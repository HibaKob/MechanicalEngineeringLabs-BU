{
 "cells": [
  {
   "cell_type": "markdown",
   "metadata": {},
   "source": [
    "# Important\n",
    "\n",
    "We have designed remote labs keeping in mind the ABET 2020 standards of 21st century engineering. When conducting the lab work, we would like you to “function effectively on a team whose members together provide leadership, create a collaborative and inclusive environment, establish goals, plan tasks, and meet objectives” while developing the “ability to develop and conduct appropriate experimentation, analyze and interpret data, and use engineering judgment to draw conclusions.\n",
    "\n",
    "Please use the following strategies to approach your lab group work:\n",
    "\n",
    "1.   **Independently Collect Data**. As you work with your group, make sure ***that each group member is conducting the experiment and collecting data on their own.*** This will allow you each to independently run the experiments yourself and gain specific knowledge needed to conduct experiments.\n",
    "\n",
    "2.   **Troubleshoot Experiments in Parallel**. As you work with your group, think about ways to support your group members with innovations you gain through your independent troubleshooting. Different group members may find different ways to achieve similar outcomes or help others with steps that may be especially difficult.\n",
    "\n",
    "3.   **Synthesize Multiple Results and Data Interpretations**. Through this process, all group members will have the opportunity to develop individual data and make their own interpretations of that data. As you work as a group to answer the discussion questions and plot your results, think about ways to aggregate your individual results and interpretations into a synthesized conclusion.\n",
    "\n",
    "Run the prelims before we get started:"
   ]
  },
  {
   "cell_type": "code",
   "execution_count": null,
   "metadata": {},
   "outputs": [],
   "source": [
    "install2_mpld3 = !pip install \"git+https://github.com/javadba/mpld3@display_fix\" # you won't automatically have this \n",
    "# library for interactive plotting, so you have to install it\n",
    "import matplotlib.pyplot as plt   # for plotting\n",
    "import numpy as np                # for arrays\n",
    "np.warnings.filterwarnings('ignore') \n",
    "import pandas as pd               # for data/tables\n",
    "from skimage import io            # working with images\n",
    "from IPython.display import Image,display # images in colab\n",
    "import mpld3                      # interacting with images\n",
    "from mpld3 import plugins         # getting pixel data from images\n",
    "import os                         # navigating through files\n",
    "\n",
    "del F, y1, y2, yi1, yi2, L0, L, force, displacement"
   ]
  },
  {
   "cell_type": "markdown",
   "metadata": {},
   "source": [
    "# Lab 1: Modulus of a Rubber Band\n",
    "\n",
    "## Introduction"
   ]
  },
  {
   "cell_type": "markdown",
   "metadata": {},
   "source": [
    "Recall that the force required to stretch a spring is proportional to the amount it is stretched: the relationship between force and deformation is <b>linear</b> (as long as the material isn't stretched too much). That is:\n",
    "\n",
    "\\begin{equation}\n",
    "F = k x,\n",
    "\\label{hooke} \\tag{1}\n",
    "\\end{equation}\n",
    "where $F$ is the force acting to extend/compress the spring, $x$ is the amount of extension, and $k$ is the spring stiffness. \n",
    "\n",
    "In the study of the <i>mechanics of materials</i>, we generalize equation (1) to a similar equation that relates <b>stress</b> to <b>strain</b>. Why? Well, the spring stiffness $k$ depends on both materials <b>and</b> geometry - using equation (1), a thick piece of rubber will have a larger stiffness than a thin piece of rubber, so how do we isolate the <b>material properties</b> of the rubber? The answer is to correct for changes in geometry by measuring an average stress ($\\sigma_{\\text{avg}}=F/A$, <i>i.e.</i> force divided by cross sectional area) and the average strain ($\\epsilon_{\\text{avg}} = \\delta/L_0$, <i>i.e.</i> extension or compression divided by the original length), \n",
    "\\begin{equation}\n",
    "\\sigma_{\\text{avg}} = E \\epsilon_{\\text{avg}},\n",
    "\\label{hookeSS} \\tag{2}\n",
    "\\end{equation}\n",
    "where the term that measures the proportionality between stress and strain is $E$, [Young's Elastic Modulus](https://en.wikipedia.org/wiki/Young%27s_modulus). \n",
    "\n",
    "Elastic materials that are <b>homogenous</b> (its properties do not depend on <i>position</i>) and <b>isotropic</b> (its properties do not depend on <i>direction</i>) can be described by three material propertes: Young's modulus $E$, shear modulus $G$, and Poisson's ratio $\\nu$. Young's modulus measures a material's resistance to being stretched or compresses (how hard is it to deform a rectangular shaped material into a bigger/smaller rectangle?). The shear modulus measures a materials resistance to being distorted (how hard is it to distort a rectangular shaped material into a [parallelepiped](https://en.wikipedia.org/wiki/Parallelepiped)?). [Poisson's ratio](https://en.wikipedia.org/wiki/Poisson%27s_ratio) measures how much a material contracts or expands in directions perpendicular to the direction of applied extension or compression. While there are three properties that characterize a homogenous, only two are independent - <i>i.e.</i> if you measure two, you can calculate the third. For instance, the shear modulus can be calculated once you know $E$ and $\\nu$ by\n",
    "\\begin{equation}\n",
    "G = \\frac{E}{2(1+\\nu)}.\n",
    "\\tag{3}\n",
    "\\end{equation}\n",
    "\n",
    "In this lab, we will learn how to measure $E$ and $\\nu$, and we will use equation (3) to calculate $G$."
   ]
  },
  {
   "cell_type": "markdown",
   "metadata": {},
   "source": [
    "Since in the prelab we learned how to measure <b>strain</b> from a photograph, we can measure the elastic modulus of various materials by applying known forces to them. We can use common household materials to apply different forces. Any combination of the various objects listed in [Appendix A](#mass) will enable you to apply a range of forces. \n",
    "\n",
    "<blockquote>\n",
    "Your task for this lab is to <b>measure</b> the elastic modulus $E$ and Poisson ratio $\\nu$ and use equation (3) to <b>calculate</b> the shear modulus $G$ of a rubber band.\n",
    "</blockquote>\n",
    "\n",
    "In order to measure $E$ and $\\nu$ of a material, we need to measure the following things:\n",
    "<ol>\n",
    "    <li>The object's initial length $L_0$, and initial cross sectional area $A_0$. For this lab, we will be studying rubber bands, which typically have a rectangular cross section, therefore we will need the width $W_0$ and thickness $h_0$ to calculate $A_0=W_0h_0$.  </li>\n",
    "    <ol>\n",
    "        <li>Typically, $L_0$ is <b>not</b> the total length of the object/specimen. Instead, we mark two points on the object far away from the edges, and measure how the distance between these points changes. Why? Well, for this measurement to be accurate, we need the stress to be uniform across the entire cross section of the material. According to <a href=\"https://en.wikipedia.org/wiki/Saint-Venant%27s_principle\">St. Venant's Principle</a>, this typically occurs far away from where the load is applied.\n",
    "    </ol>                \n",
    "    <li>The deformed length $L$ and width $W$ for each force $F$ we apply. </li>\n",
    "    <ol>\n",
    "        <li>Therefore, we can calculate the axial strain as $\\epsilon_{\\text{axial}}=(L-L_0)/L_0$.</li>\n",
    "        <li>...and the transverse strain as $\\epsilon_{\\text{transverse}}=(W-W_0)/W_0$. </li>\n",
    "    </ol>\n",
    "    <li>We can calculate Poisson's ratio by: $\\nu=-\\epsilon_{\\text{transverse}}/\\epsilon_{\\text{axial}}$</li>\n",
    "    <li>Dividing $F$ by the initial cross sectional area $A_0$ gives a measure of the \"<a href=\"https://en.wikipedia.org/wiki/Stress%E2%80%93strain_curve#Engineering_stress_and_strain\">engineering stress</a>\" or \"nominal stress\", $\\sigma$.</li>\n",
    "    <li> A plot of stress vs. axial strain will allow us to calculate $E$ using a linear regression.\n",
    "</ol>    \n",
    "\n"
   ]
  },
  {
   "cell_type": "markdown",
   "metadata": {},
   "source": [
    "## Experiments \n",
    "You will EACH need to take 7-9 photos in total: 2 photos of the initial, unloaded rubber band (one front and one side view), and 5-7 photos of the rubber band with different weights (front view only). See: [Appendix B](#tips) for photo tips. Note that you may need to decrease the size and/or resolution for the photos to upload -- this makes it even more important that the subject takes up as much of the frame as possible!\n",
    "\n",
    "Save them to the correct subfolder of your shared Google drive with descriptive names (e.g. \"initial.jpg\", \"initial_side.jpg\", etc.) \n",
    "\n",
    "Mount your drive and make sure you can access all of the photos. As a reminder, here's how:"
   ]
  },
  {
   "cell_type": "markdown",
   "metadata": {},
   "source": [
    "### Example Experiments\n",
    "\n",
    "Here's an example showing images of a rubber band in its initial state (left) and deformed state (right). I have labeled $L_0$, $L$, $W_0$, and $W$. (Note: I did not include a side image which will be necessary to measure $h_0$.) In the deformed image, the rubber band is loaded with a C battery. According to [Appendix A](#mass) has a mass of $m=67$ g, which corresponds to a force of $F = 0.657$ N. \n",
    "\n",
    "In each image, I have included an object with a known physical dimension - in this case, a AA battery whose length is $L_b = 50.5$ mm (see: [Appendix A](#mass)). This is important, as it allows us to convert our measurements from pixels to mm (see: [Appendix B](#tips)). \n",
    "\n",
    "<img src = \"https://www.bu.edu/moss/files/2020/05/rubberBand.jpg\">"
   ]
  },
  {
   "cell_type": "markdown",
   "metadata": {},
   "source": [
    "<a id='mass'></a>\n",
    "## Appendix A: Masses of Various Objects\n",
    "\n",
    "| Object | Mass (g) | Diameter (mm) | Height (mm) |\n",
    "| --- | --- | --- | --- |\n",
    "| Dime | 2 | 17.9 | 1.35 |\n",
    "| Penny | 3 | 19.1 | 1.52 |\n",
    "| Nickel | 5 | 21.2 | 1.95 |\n",
    "| Quarter | 5.6 | 24.3 | 1.75 |\n",
    "| AAA Battery | 11 | 10.5 | 44.5 |\n",
    "| AA Battery | 24 | 14.5 | 50.5 |\n",
    "| 9V Battery | 45 | n/a  | 48.5  |\n",
    "| C Battery | 67 | 26.2 | 50.0 |\n",
    "| D Battery | 136 | 34.2 | 61.5 |"
   ]
  },
  {
   "cell_type": "markdown",
   "metadata": {},
   "source": [
    "<a id='tips'></a>\n",
    "## Appendix B: Practical Tips\n",
    "\n",
    "<ol>\n",
    "       <li>Hang your rubber band vertically, so that $F = mg$, where $g = 9.81 m/s^2$, and $m$ is the mass of the object(s).</li>\n",
    "    <li>Try to keep your camera angle as consistent as you can (avoid tilting as much as possible), and try to keep the band at the same inclination for all photos -- ideally, it hangs straight down, though this is easier said than done.</li>\n",
    "    <li>Aim for the rubber band to fill most of the frame. In other words, take your photos from close up (or crop them before importing).</li>\n",
    "    <li>Never work with pixels, <b>always convert your measurements to a unit of physical length</b>, <i>e.g.</i> mm.</li>\n",
    "    <ol>\n",
    "        <li><b>Tip</b>: Put something that you know the physical size of in the photograph.  Then, you can measure the length of that known object in pixels, and convert to a phyiscal unit of measure. Dimensions of various common objects are listed in [Appendix A](#mass).</li>\n",
    "        <li>The conversion from pixels to mm might change from picture to picture because your camera might not be the same distance from the sample each time.</li>\n",
    "    </ol>\n",
    "    <li>Don't use a known volume of water as your mass. You will almost certainly spill this water everywhere.</li>\n",
    "    <li>Take measurements of strain using least 5 to 7 different masses. Remember: Hooke's law is valid for <b>small strains</b>, so take more of your measurements with small increments of applied force.</li>\n",
    "    <li>The moduli of most rubbers are between $0.1 \\leq E \\leq 10$ MPa, and the Poisson's ratio are typically very close to $\\nu \\approx 0.5$. If your values are very different from these quantities, you have probably done something wrong.</li>       \n",
    "</ol>"
   ]
  }
 ],
 "metadata": {
  "kernelspec": {
   "display_name": "Python 3",
   "language": "python",
   "name": "python3"
  },
  "language_info": {
   "codemirror_mode": {
    "name": "ipython",
    "version": 3
   },
   "file_extension": ".py",
   "mimetype": "text/x-python",
   "name": "python",
   "nbconvert_exporter": "python",
   "pygments_lexer": "ipython3",
   "version": "3.7.3"
  }
 },
 "nbformat": 4,
 "nbformat_minor": 4
}
